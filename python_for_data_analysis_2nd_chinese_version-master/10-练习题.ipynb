{
 "cells": [
  {
   "cell_type": "code",
   "execution_count": 1,
   "id": "4a879131",
   "metadata": {},
   "outputs": [],
   "source": [
    "import numpy as np"
   ]
  },
  {
   "cell_type": "markdown",
   "id": "b2d02ccb",
   "metadata": {},
   "source": [
    "#### 1、打印当前Numpy版本"
   ]
  },
  {
   "cell_type": "code",
   "execution_count": 2,
   "id": "d4faab5b",
   "metadata": {},
   "outputs": [
    {
     "name": "stdout",
     "output_type": "stream",
     "text": [
      "1.21.5\n"
     ]
    }
   ],
   "source": [
    "print(np.__version__)"
   ]
  },
  {
   "cell_type": "markdown",
   "id": "a1c7301b",
   "metadata": {},
   "source": [
    "#### 2、构造一个全零的矩阵，并打印其占用的内存大小"
   ]
  },
  {
   "cell_type": "code",
   "execution_count": 3,
   "id": "ecbbe421",
   "metadata": {},
   "outputs": [
    {
     "data": {
      "text/plain": [
       "array([[0, 0, 0],\n",
       "       [0, 0, 0],\n",
       "       [0, 0, 0]])"
      ]
     },
     "execution_count": 3,
     "metadata": {},
     "output_type": "execute_result"
    }
   ],
   "source": [
    "cheng_array = np.zeros((3,3), dtype = np.int32)\n",
    "cheng_array"
   ]
  },
  {
   "cell_type": "code",
   "execution_count": 4,
   "id": "f8bc467e",
   "metadata": {},
   "outputs": [
    {
     "data": {
      "text/plain": [
       "36"
      ]
     },
     "execution_count": 4,
     "metadata": {},
     "output_type": "execute_result"
    }
   ],
   "source": [
    "cheng_array.nbytes"
   ]
  },
  {
   "cell_type": "code",
   "execution_count": 5,
   "id": "952e5410",
   "metadata": {},
   "outputs": [
    {
     "data": {
      "text/plain": [
       "36"
      ]
     },
     "execution_count": 5,
     "metadata": {},
     "output_type": "execute_result"
    }
   ],
   "source": [
    "cheng_array.size * cheng_array.itemsize"
   ]
  },
  {
   "cell_type": "markdown",
   "id": "bb5e4ce5",
   "metadata": {},
   "source": [
    "#### 3、打印一个帮助文档"
   ]
  },
  {
   "cell_type": "code",
   "execution_count": 6,
   "id": "a7902bf0",
   "metadata": {},
   "outputs": [
    {
     "name": "stdout",
     "output_type": "stream",
     "text": [
      "add(x1, x2, /, out=None, *, where=True, casting='same_kind', order='K', dtype=None, subok=True[, signature, extobj])\n",
      "\n",
      "Add arguments element-wise.\n",
      "\n",
      "Parameters\n",
      "----------\n",
      "x1, x2 : array_like\n",
      "    The arrays to be added.\n",
      "    If ``x1.shape != x2.shape``, they must be broadcastable to a common\n",
      "    shape (which becomes the shape of the output).\n",
      "out : ndarray, None, or tuple of ndarray and None, optional\n",
      "    A location into which the result is stored. If provided, it must have\n",
      "    a shape that the inputs broadcast to. If not provided or None,\n",
      "    a freshly-allocated array is returned. A tuple (possible only as a\n",
      "    keyword argument) must have length equal to the number of outputs.\n",
      "where : array_like, optional\n",
      "    This condition is broadcast over the input. At locations where the\n",
      "    condition is True, the `out` array will be set to the ufunc result.\n",
      "    Elsewhere, the `out` array will retain its original value.\n",
      "    Note that if an uninitialized `out` array is created via the default\n",
      "    ``out=None``, locations within it where the condition is False will\n",
      "    remain uninitialized.\n",
      "**kwargs\n",
      "    For other keyword-only arguments, see the\n",
      "    :ref:`ufunc docs <ufuncs.kwargs>`.\n",
      "\n",
      "Returns\n",
      "-------\n",
      "add : ndarray or scalar\n",
      "    The sum of `x1` and `x2`, element-wise.\n",
      "    This is a scalar if both `x1` and `x2` are scalars.\n",
      "\n",
      "Notes\n",
      "-----\n",
      "Equivalent to `x1` + `x2` in terms of array broadcasting.\n",
      "\n",
      "Examples\n",
      "--------\n",
      ">>> np.add(1.0, 4.0)\n",
      "5.0\n",
      ">>> x1 = np.arange(9.0).reshape((3, 3))\n",
      ">>> x2 = np.arange(3.0)\n",
      ">>> np.add(x1, x2)\n",
      "array([[  0.,   2.,   4.],\n",
      "       [  3.,   5.,   7.],\n",
      "       [  6.,   8.,  10.]])\n",
      "\n",
      "The ``+`` operator can be used as a shorthand for ``np.add`` on ndarrays.\n",
      "\n",
      ">>> x1 = np.arange(9.0).reshape((3, 3))\n",
      ">>> x2 = np.arange(3.0)\n",
      ">>> x1 + x2\n",
      "array([[ 0.,  2.,  4.],\n",
      "       [ 3.,  5.,  7.],\n",
      "       [ 6.,  8., 10.]])\n",
      "Help on NoneType object:\n",
      "\n",
      "class NoneType(object)\n",
      " |  Methods defined here:\n",
      " |  \n",
      " |  __bool__(self, /)\n",
      " |      True if self else False\n",
      " |  \n",
      " |  __repr__(self, /)\n",
      " |      Return repr(self).\n",
      " |  \n",
      " |  ----------------------------------------------------------------------\n",
      " |  Static methods defined here:\n",
      " |  \n",
      " |  __new__(*args, **kwargs) from builtins.type\n",
      " |      Create and return a new object.  See help(type) for accurate signature.\n",
      "\n",
      "None\n"
     ]
    }
   ],
   "source": [
    "print(help(np.info(np.add)))"
   ]
  },
  {
   "cell_type": "markdown",
   "id": "f0a9109c",
   "metadata": {},
   "source": [
    "#### 4、倒序排列"
   ]
  },
  {
   "cell_type": "code",
   "execution_count": 7,
   "id": "53efab41",
   "metadata": {},
   "outputs": [
    {
     "data": {
      "text/plain": [
       "array([49, 48, 47, 46, 45, 44, 43, 42, 41, 40, 39, 38, 37, 36, 35, 34, 33,\n",
       "       32, 31, 30, 29, 28, 27, 26, 25, 24, 23, 22, 21, 20, 19, 18, 17, 16,\n",
       "       15, 14, 13, 12, 11, 10])"
      ]
     },
     "execution_count": 7,
     "metadata": {},
     "output_type": "execute_result"
    }
   ],
   "source": [
    "np.arange(10,50)[::-1]"
   ]
  },
  {
   "cell_type": "markdown",
   "id": "a932acb7",
   "metadata": {},
   "source": [
    "#### 5、找到数组中不为0的索引"
   ]
  },
  {
   "cell_type": "code",
   "execution_count": 8,
   "id": "59d0bc4d",
   "metadata": {},
   "outputs": [
    {
     "data": {
      "text/plain": [
       "(array([0, 1, 2, 3, 6], dtype=int64),)"
      ]
     },
     "execution_count": 8,
     "metadata": {},
     "output_type": "execute_result"
    }
   ],
   "source": [
    "np.nonzero([1,2,3,4,0,0,5,0])"
   ]
  },
  {
   "cell_type": "markdown",
   "id": "a496260b-2451-4e2c-963e-7311f9793788",
   "metadata": {},
   "source": [
    "#### 6、随机构造3*3的矩阵，打印最大值和最小值"
   ]
  },
  {
   "cell_type": "code",
   "execution_count": 9,
   "id": "5296843a",
   "metadata": {},
   "outputs": [
    {
     "data": {
      "text/plain": [
       "array([[0.05123293, 0.37014506, 0.50490946],\n",
       "       [0.15798787, 0.06185318, 0.110416  ],\n",
       "       [0.33635457, 0.29456482, 0.55140777]])"
      ]
     },
     "execution_count": 9,
     "metadata": {},
     "output_type": "execute_result"
    }
   ],
   "source": [
    "array = np.random.rand(3,3)\n",
    "array"
   ]
  },
  {
   "cell_type": "code",
   "execution_count": 10,
   "id": "8c62eef5",
   "metadata": {},
   "outputs": [
    {
     "data": {
      "text/plain": [
       "0.5514077739463936"
      ]
     },
     "execution_count": 10,
     "metadata": {},
     "output_type": "execute_result"
    }
   ],
   "source": [
    "array.max()"
   ]
  },
  {
   "cell_type": "code",
   "execution_count": 11,
   "id": "4f23b17a",
   "metadata": {},
   "outputs": [
    {
     "data": {
      "text/plain": [
       "0.05123293120817074"
      ]
     },
     "execution_count": 11,
     "metadata": {},
     "output_type": "execute_result"
    }
   ],
   "source": [
    "array.min()"
   ]
  },
  {
   "cell_type": "markdown",
   "id": "547949d3",
   "metadata": {},
   "source": [
    "#### 7、构造5*5的矩阵，并在最外层加上一圈0，np.pad方法"
   ]
  },
  {
   "cell_type": "code",
   "execution_count": 12,
   "id": "1499fd56",
   "metadata": {},
   "outputs": [
    {
     "data": {
      "text/plain": [
       "array([[1., 1., 1., 1., 1.],\n",
       "       [1., 1., 1., 1., 1.],\n",
       "       [1., 1., 1., 1., 1.],\n",
       "       [1., 1., 1., 1., 1.],\n",
       "       [1., 1., 1., 1., 1.]])"
      ]
     },
     "execution_count": 12,
     "metadata": {},
     "output_type": "execute_result"
    }
   ],
   "source": [
    "array2 = np.ones((5,5))\n",
    "array2"
   ]
  },
  {
   "cell_type": "code",
   "execution_count": 13,
   "id": "dc14b98b",
   "metadata": {},
   "outputs": [],
   "source": [
    "array2 = np.pad(array2, pad_width= 1,mode = 'constant', constant_values = 0)"
   ]
  },
  {
   "cell_type": "code",
   "execution_count": 14,
   "id": "08d11689",
   "metadata": {},
   "outputs": [
    {
     "data": {
      "text/plain": [
       "array([[0., 0., 0., 0., 0., 0., 0.],\n",
       "       [0., 1., 1., 1., 1., 1., 0.],\n",
       "       [0., 1., 1., 1., 1., 1., 0.],\n",
       "       [0., 1., 1., 1., 1., 1., 0.],\n",
       "       [0., 1., 1., 1., 1., 1., 0.],\n",
       "       [0., 1., 1., 1., 1., 1., 0.],\n",
       "       [0., 0., 0., 0., 0., 0., 0.]])"
      ]
     },
     "execution_count": 14,
     "metadata": {},
     "output_type": "execute_result"
    }
   ],
   "source": [
    "array2"
   ]
  },
  {
   "cell_type": "markdown",
   "id": "731ec152",
   "metadata": {},
   "source": [
    "#### 8、构建一个shape为 (6, 7, 8)的矩阵，并找到第100个元素的索引值"
   ]
  },
  {
   "cell_type": "code",
   "execution_count": 15,
   "id": "d4bdabab",
   "metadata": {},
   "outputs": [
    {
     "data": {
      "text/plain": [
       "array([[[4.01147115e-01, 3.48168475e-01, 2.09858649e-01, 4.44446395e-01,\n",
       "         6.74035633e-01, 8.54293141e-01, 8.29281353e-01, 8.75400221e-03],\n",
       "        [1.03846767e-01, 7.63536346e-02, 7.86069872e-01, 3.86863150e-01,\n",
       "         4.74241811e-01, 3.96307340e-01, 8.58414848e-01, 7.51321839e-01],\n",
       "        [6.87195711e-01, 2.16294987e-01, 6.34155821e-01, 8.95246006e-01,\n",
       "         5.92755384e-01, 9.75829825e-01, 4.55529204e-01, 1.85362684e-01],\n",
       "        [1.76356363e-01, 2.14064196e-01, 6.89618893e-01, 9.97292587e-01,\n",
       "         8.56872394e-01, 1.62673861e-01, 8.77453477e-02, 2.33544910e-01],\n",
       "        [2.25285491e-01, 4.90829047e-01, 8.07889521e-01, 7.12566310e-01,\n",
       "         3.72758861e-02, 9.91754818e-01, 4.68017429e-01, 7.60098255e-02],\n",
       "        [8.18163177e-01, 9.17595722e-01, 7.55271662e-01, 9.53859748e-01,\n",
       "         4.59764811e-01, 7.94576894e-01, 5.60750648e-01, 4.06073593e-01],\n",
       "        [2.96765328e-01, 1.45523679e-01, 2.78559869e-01, 9.55852131e-01,\n",
       "         9.13275714e-01, 7.51115130e-01, 6.11367677e-02, 6.77222900e-01]],\n",
       "\n",
       "       [[3.39840515e-01, 1.68876450e-01, 1.42728084e-01, 4.77463002e-01,\n",
       "         4.45312358e-01, 1.98567796e-02, 5.51922319e-01, 7.31556601e-01],\n",
       "        [7.35311084e-01, 8.02376627e-01, 4.49025952e-01, 8.31533115e-01,\n",
       "         4.32501068e-01, 9.75430941e-01, 8.08404636e-01, 2.80350867e-01],\n",
       "        [4.61586499e-01, 1.76648033e-01, 2.37191715e-01, 2.06053351e-01,\n",
       "         6.89704031e-01, 9.92641141e-01, 1.19522508e-01, 5.08065257e-01],\n",
       "        [8.60070762e-01, 6.52143024e-01, 1.73616991e-01, 7.75913010e-01,\n",
       "         6.35042724e-01, 9.41858853e-01, 1.28904540e-01, 7.57434046e-01],\n",
       "        [5.73369276e-01, 4.39671143e-01, 4.66033667e-01, 8.36884025e-01,\n",
       "         4.63789437e-01, 2.76958152e-01, 2.38995786e-01, 6.87334367e-01],\n",
       "        [8.89302203e-02, 9.41500916e-01, 9.91832392e-01, 4.50752829e-01,\n",
       "         3.54299641e-02, 1.47484938e-01, 5.44718970e-03, 3.39455236e-01],\n",
       "        [2.18311360e-01, 6.94896595e-01, 7.19471826e-01, 5.35559295e-02,\n",
       "         5.04707080e-01, 9.87217579e-01, 1.92370516e-01, 6.19237710e-01]],\n",
       "\n",
       "       [[4.12726500e-01, 6.96406560e-01, 8.56204979e-01, 9.16434978e-01,\n",
       "         7.60859226e-01, 8.77118011e-01, 1.07412942e-01, 6.43092700e-01],\n",
       "        [2.17317202e-01, 5.62850422e-01, 6.85721423e-01, 5.44865965e-01,\n",
       "         7.74649942e-01, 9.80269021e-01, 6.20355953e-01, 4.88676123e-01],\n",
       "        [3.63780718e-01, 7.26372408e-01, 2.94860792e-02, 1.76141632e-02,\n",
       "         3.66870562e-01, 6.25480819e-01, 5.75818598e-01, 6.26742546e-01],\n",
       "        [6.53369685e-02, 7.49848897e-01, 2.36717650e-01, 2.51755025e-01,\n",
       "         2.68691815e-01, 5.15707660e-01, 6.47471220e-01, 6.21136305e-01],\n",
       "        [6.10587207e-01, 9.14065964e-02, 5.33997367e-01, 8.31258396e-01,\n",
       "         2.92891029e-01, 4.57765165e-01, 6.74101243e-01, 1.85933723e-01],\n",
       "        [3.15944095e-01, 3.72792292e-01, 2.77539197e-01, 9.95622093e-01,\n",
       "         4.20936849e-02, 9.65587154e-01, 5.57678166e-01, 2.56273389e-01],\n",
       "        [3.99711333e-01, 2.19499417e-01, 5.58988663e-01, 4.45543461e-01,\n",
       "         2.06929316e-01, 9.59891930e-01, 7.33558415e-01, 4.41479074e-01]],\n",
       "\n",
       "       [[8.85450253e-01, 7.49574721e-01, 5.71614663e-01, 9.35089129e-01,\n",
       "         6.82435984e-01, 7.08376564e-01, 1.01466526e-01, 3.69052794e-01],\n",
       "        [3.02301486e-01, 5.25035794e-01, 9.79067990e-01, 6.18954160e-01,\n",
       "         4.96355359e-01, 6.44965224e-01, 6.24276810e-02, 6.10351579e-01],\n",
       "        [9.27952271e-01, 9.99799557e-02, 3.70833413e-01, 6.06049204e-02,\n",
       "         5.92931080e-01, 6.33487496e-01, 1.43916531e-01, 9.16022894e-01],\n",
       "        [1.74366760e-01, 1.20778799e-01, 4.44838904e-01, 7.28547246e-01,\n",
       "         8.52989466e-01, 2.01558358e-01, 3.31243212e-01, 2.54562205e-01],\n",
       "        [8.44746794e-01, 8.52206251e-01, 6.88367587e-01, 1.89851597e-01,\n",
       "         1.06356120e-01, 9.02581991e-01, 5.14095552e-01, 4.16670580e-01],\n",
       "        [9.27823297e-01, 8.22391592e-01, 4.65433608e-01, 5.68966506e-01,\n",
       "         5.11188893e-01, 1.69536012e-02, 9.21537174e-01, 7.54981767e-01],\n",
       "        [6.29533003e-01, 4.67302166e-01, 7.99223039e-01, 8.00225272e-01,\n",
       "         5.73086510e-01, 2.61804613e-01, 1.95691885e-01, 8.58884128e-01]],\n",
       "\n",
       "       [[9.83023219e-01, 6.69151002e-02, 9.12469647e-01, 8.93057048e-01,\n",
       "         3.31712588e-03, 8.44822301e-01, 9.03837299e-02, 6.56161440e-01],\n",
       "        [7.62251602e-01, 8.26101067e-01, 3.16101718e-01, 7.08949851e-01,\n",
       "         2.44060210e-01, 5.40805426e-01, 6.79509901e-01, 2.27412593e-01],\n",
       "        [9.68178755e-02, 1.78578655e-01, 1.26576244e-01, 9.84670356e-02,\n",
       "         9.87804046e-01, 9.34071785e-02, 2.47677528e-01, 1.28747585e-01],\n",
       "        [2.11901907e-01, 2.85934901e-01, 6.49473076e-01, 4.32477019e-01,\n",
       "         2.80389866e-01, 5.24303885e-01, 3.22230670e-01, 3.80471503e-01],\n",
       "        [1.80946599e-01, 6.36470089e-01, 3.42486035e-01, 4.32029557e-01,\n",
       "         5.20592078e-01, 8.89940294e-01, 3.99408159e-01, 7.91829492e-01],\n",
       "        [1.08635835e-01, 1.45807496e-01, 5.99842883e-01, 6.11483290e-01,\n",
       "         3.40353425e-02, 8.72016605e-01, 9.27703586e-01, 9.47130387e-01],\n",
       "        [2.14112661e-01, 8.12577292e-04, 4.98975303e-01, 3.41494274e-01,\n",
       "         8.88895365e-01, 4.10237257e-01, 4.53217845e-01, 6.33980577e-01]],\n",
       "\n",
       "       [[3.90151348e-01, 2.14857893e-01, 5.20083702e-01, 2.05464973e-02,\n",
       "         8.92951153e-01, 2.81337390e-01, 3.58876801e-01, 5.30186191e-01],\n",
       "        [3.60678018e-01, 6.68431955e-01, 3.77563071e-01, 8.03517537e-01,\n",
       "         1.81252357e-01, 6.78204090e-01, 4.72483769e-01, 1.25084509e-01],\n",
       "        [1.79086034e-01, 8.88926894e-01, 2.80674599e-01, 9.48383150e-01,\n",
       "         9.44206105e-01, 3.96930763e-01, 9.74764873e-01, 6.71702257e-01],\n",
       "        [4.13349389e-02, 9.69782374e-01, 4.23372022e-01, 9.47948980e-01,\n",
       "         6.07258658e-01, 3.15436872e-01, 1.37557631e-01, 3.41307188e-01],\n",
       "        [9.23427523e-01, 9.22122611e-01, 3.58730682e-01, 5.05074681e-01,\n",
       "         8.35653612e-01, 7.77177902e-01, 9.47645802e-01, 9.15397308e-01],\n",
       "        [5.88143595e-02, 4.61368024e-01, 5.54525651e-01, 2.57603570e-01,\n",
       "         3.26997802e-01, 8.78442921e-01, 6.10834780e-03, 7.28456890e-01],\n",
       "        [6.68776760e-01, 9.16249205e-01, 8.54751661e-01, 1.33618631e-01,\n",
       "         2.14233473e-02, 8.89990834e-01, 3.44574406e-01, 2.22804143e-01]]])"
      ]
     },
     "execution_count": 15,
     "metadata": {},
     "output_type": "execute_result"
    }
   ],
   "source": [
    "array3 = np.random.rand(6,7,8)\n",
    "array3"
   ]
  },
  {
   "cell_type": "code",
   "execution_count": 16,
   "id": "fef0f1e8",
   "metadata": {},
   "outputs": [
    {
     "data": {
      "text/plain": [
       "(1, 5, 4)"
      ]
     },
     "execution_count": 16,
     "metadata": {},
     "output_type": "execute_result"
    }
   ],
   "source": [
    "np.unravel_index(100,array3.shape)"
   ]
  },
  {
   "cell_type": "markdown",
   "id": "700e86a5",
   "metadata": {},
   "source": [
    "#### 9、对一个5*5的矩阵做归一化操作"
   ]
  },
  {
   "cell_type": "code",
   "execution_count": 17,
   "id": "f5956aca",
   "metadata": {},
   "outputs": [],
   "source": [
    "array4 = np.random.rand(5,5)"
   ]
  },
  {
   "cell_type": "code",
   "execution_count": 18,
   "id": "d0c50fd5",
   "metadata": {},
   "outputs": [],
   "source": [
    "aMax = array4.max()\n",
    "aMin = array4.min()\n",
    "array4 = (array4 - aMin / aMax - aMin)"
   ]
  },
  {
   "cell_type": "code",
   "execution_count": 19,
   "id": "a9190b13",
   "metadata": {},
   "outputs": [
    {
     "data": {
      "text/plain": [
       "array([[ 0.07894005,  0.31143464,  0.85467513,  0.26555355, -0.07022548],\n",
       "       [ 0.6766214 ,  0.77857071,  0.31881094,  0.34433654,  0.32347474],\n",
       "       [ 0.67394723,  0.02623328,  0.42415824,  0.55536888,  0.63865299],\n",
       "       [ 0.29118826,  0.82686131,  0.20619058,  0.61252977, -0.0132297 ],\n",
       "       [ 0.35765988,  0.55651824,  0.43221497,  0.05933323,  0.08904795]])"
      ]
     },
     "execution_count": 19,
     "metadata": {},
     "output_type": "execute_result"
    }
   ],
   "source": [
    "array4"
   ]
  },
  {
   "cell_type": "markdown",
   "id": "0dead1fe",
   "metadata": {},
   "source": [
    "#### 10、找到两个数组中相同的值"
   ]
  },
  {
   "cell_type": "code",
   "execution_count": 20,
   "id": "c686b91e",
   "metadata": {},
   "outputs": [],
   "source": [
    "array1 = np.random.randint(0,10,10)"
   ]
  },
  {
   "cell_type": "code",
   "execution_count": 21,
   "id": "37346e17",
   "metadata": {},
   "outputs": [],
   "source": [
    "array2 = np.random.randint(0,10,10)"
   ]
  },
  {
   "cell_type": "code",
   "execution_count": 22,
   "id": "fd3b7b98",
   "metadata": {},
   "outputs": [
    {
     "data": {
      "text/plain": [
       "array([2, 8])"
      ]
     },
     "execution_count": 22,
     "metadata": {},
     "output_type": "execute_result"
    }
   ],
   "source": [
    "np.intersect1d(array1, array2)"
   ]
  },
  {
   "cell_type": "code",
   "execution_count": 23,
   "id": "66f5d15d",
   "metadata": {},
   "outputs": [
    {
     "name": "stdout",
     "output_type": "stream",
     "text": [
      "[1 1 6 9 0 0 8 1 9 2]\n",
      "[8 2 2 2 5 4 8 8 2 7]\n"
     ]
    }
   ],
   "source": [
    "print(array1)\n",
    "print(array2)"
   ]
  },
  {
   "cell_type": "markdown",
   "id": "b4603875",
   "metadata": {},
   "source": [
    "#### 11、得到今天 明天 昨天的日期"
   ]
  },
  {
   "cell_type": "code",
   "execution_count": 24,
   "id": "c3a56679",
   "metadata": {},
   "outputs": [
    {
     "data": {
      "text/plain": [
       "numpy.datetime64('2022-09-12')"
      ]
     },
     "execution_count": 24,
     "metadata": {},
     "output_type": "execute_result"
    }
   ],
   "source": [
    "yesterday = np.datetime64('today','D') - np.timedelta64(1, 'D')\n",
    "today = np.datetime64('today','D')\n",
    "tommorow = np.datetime64('today', 'D') + np.timedelta64(1, 'D')\n",
    "today"
   ]
  },
  {
   "cell_type": "code",
   "execution_count": 25,
   "id": "aad294e7",
   "metadata": {},
   "outputs": [
    {
     "data": {
      "text/plain": [
       "numpy.datetime64('2022-09-11')"
      ]
     },
     "execution_count": 25,
     "metadata": {},
     "output_type": "execute_result"
    }
   ],
   "source": [
    "yesterday"
   ]
  },
  {
   "cell_type": "code",
   "execution_count": 26,
   "id": "ca1f1c93",
   "metadata": {},
   "outputs": [
    {
     "data": {
      "text/plain": [
       "numpy.datetime64('2022-09-13')"
      ]
     },
     "execution_count": 26,
     "metadata": {},
     "output_type": "execute_result"
    }
   ],
   "source": [
    "tommorow"
   ]
  },
  {
   "cell_type": "markdown",
   "id": "c9ae8458",
   "metadata": {},
   "source": [
    "#### 12、得到一个月中的所有天"
   ]
  },
  {
   "cell_type": "code",
   "execution_count": 27,
   "id": "86981530",
   "metadata": {},
   "outputs": [],
   "source": [
    "#np.arange('2022-7', '2020-8',dtype = 'datetime64[D]')"
   ]
  },
  {
   "cell_type": "markdown",
   "id": "f8604d5d",
   "metadata": {},
   "source": [
    "#### 13、得到一个数的整数部分"
   ]
  },
  {
   "cell_type": "code",
   "execution_count": 28,
   "id": "cbde2c50",
   "metadata": {},
   "outputs": [],
   "source": [
    "z = np.random.uniform(0, 10, 10)"
   ]
  },
  {
   "cell_type": "code",
   "execution_count": 29,
   "id": "7752aa37",
   "metadata": {},
   "outputs": [
    {
     "data": {
      "text/plain": [
       "array([4.05556599, 1.36890116, 1.36179028, 0.4804507 , 2.22066978,\n",
       "       4.71152027, 3.75141196, 3.06336869, 4.37084996, 8.98878642])"
      ]
     },
     "execution_count": 29,
     "metadata": {},
     "output_type": "execute_result"
    }
   ],
   "source": [
    "z"
   ]
  },
  {
   "cell_type": "code",
   "execution_count": 30,
   "id": "837d3a99",
   "metadata": {},
   "outputs": [
    {
     "data": {
      "text/plain": [
       "array([4., 1., 1., 0., 2., 4., 3., 3., 4., 8.])"
      ]
     },
     "execution_count": 30,
     "metadata": {},
     "output_type": "execute_result"
    }
   ],
   "source": [
    "np.floor(z)"
   ]
  },
  {
   "cell_type": "code",
   "execution_count": 31,
   "id": "de17c6a1",
   "metadata": {},
   "outputs": [
    {
     "data": {
      "text/plain": [
       "array([0.05556599, 0.36890116, 0.36179028, 0.4804507 , 0.22066978,\n",
       "       0.71152027, 0.75141196, 0.06336869, 0.37084996, 0.98878642])"
      ]
     },
     "execution_count": 31,
     "metadata": {},
     "output_type": "execute_result"
    }
   ],
   "source": [
    "z-np.floor(z)"
   ]
  },
  {
   "cell_type": "markdown",
   "id": "8290d9f6",
   "metadata": {},
   "source": [
    "#### 14、构造一个数组，让他不能被改变"
   ]
  },
  {
   "cell_type": "code",
   "execution_count": 32,
   "id": "2da99c80",
   "metadata": {},
   "outputs": [],
   "source": [
    "array5 = np.random.rand(5,5)"
   ]
  },
  {
   "cell_type": "code",
   "execution_count": 33,
   "id": "3d954ffa",
   "metadata": {},
   "outputs": [],
   "source": [
    "array5.flags.writeable = False"
   ]
  },
  {
   "cell_type": "code",
   "execution_count": 34,
   "id": "76429b5a",
   "metadata": {},
   "outputs": [
    {
     "data": {
      "text/plain": [
       "array([[3.83849943e-01, 4.11931311e-01, 2.27989130e-01, 9.99044578e-01,\n",
       "        2.79332919e-01],\n",
       "       [8.95159722e-01, 5.85029048e-01, 7.57653571e-01, 6.93021819e-01,\n",
       "        8.90376726e-01],\n",
       "       [1.00158811e-01, 3.46330253e-01, 1.59532363e-01, 3.76145141e-01,\n",
       "        2.87448903e-01],\n",
       "       [5.98650043e-01, 2.66560364e-01, 7.44966862e-01, 3.76991734e-04,\n",
       "        1.66649735e-01],\n",
       "       [7.88879831e-01, 4.61172632e-01, 1.59280592e-01, 8.23019703e-02,\n",
       "        8.75252285e-01]])"
      ]
     },
     "execution_count": 34,
     "metadata": {},
     "output_type": "execute_result"
    }
   ],
   "source": [
    "array5"
   ]
  },
  {
   "cell_type": "code",
   "execution_count": 35,
   "id": "0d29e80c",
   "metadata": {},
   "outputs": [
    {
     "ename": "ValueError",
     "evalue": "assignment destination is read-only",
     "output_type": "error",
     "traceback": [
      "\u001b[1;31m---------------------------------------------------------------------------\u001b[0m",
      "\u001b[1;31mValueError\u001b[0m                                Traceback (most recent call last)",
      "Input \u001b[1;32mIn [35]\u001b[0m, in \u001b[0;36m<cell line: 1>\u001b[1;34m()\u001b[0m\n\u001b[1;32m----> 1\u001b[0m array5[\u001b[38;5;241m1\u001b[39m] \u001b[38;5;241m=\u001b[39m \u001b[38;5;241m1\u001b[39m\n",
      "\u001b[1;31mValueError\u001b[0m: assignment destination is read-only"
     ]
    }
   ],
   "source": [
    "array5[1] = 1"
   ]
  },
  {
   "cell_type": "markdown",
   "id": "4b1c6a7e",
   "metadata": {},
   "source": [
    "#### 15、打印大数据的部分值，全部值"
   ]
  },
  {
   "cell_type": "code",
   "execution_count": 36,
   "id": "a62e37bc",
   "metadata": {},
   "outputs": [
    {
     "data": {
      "text/plain": [
       "array([[0., 0., 0., ..., 0., 0., 0.],\n",
       "       [0., 0., 0., ..., 0., 0., 0.],\n",
       "       [0., 0., 0., ..., 0., 0., 0.],\n",
       "       ...,\n",
       "       [0., 0., 0., ..., 0., 0., 0.],\n",
       "       [0., 0., 0., ..., 0., 0., 0.],\n",
       "       [0., 0., 0., ..., 0., 0., 0.]])"
      ]
     },
     "execution_count": 36,
     "metadata": {},
     "output_type": "execute_result"
    }
   ],
   "source": [
    "array6 = np.zeros((150,150))\n",
    "array6"
   ]
  },
  {
   "cell_type": "code",
   "execution_count": 37,
   "id": "261d375c",
   "metadata": {},
   "outputs": [],
   "source": [
    "np.set_printoptions( threshold = 10 )"
   ]
  },
  {
   "cell_type": "code",
   "execution_count": 38,
   "id": "8bb92e05",
   "metadata": {},
   "outputs": [
    {
     "data": {
      "text/plain": [
       "array([[0., 0., 0., ..., 0., 0., 0.],\n",
       "       [0., 0., 0., ..., 0., 0., 0.],\n",
       "       [0., 0., 0., ..., 0., 0., 0.],\n",
       "       ...,\n",
       "       [0., 0., 0., ..., 0., 0., 0.],\n",
       "       [0., 0., 0., ..., 0., 0., 0.],\n",
       "       [0., 0., 0., ..., 0., 0., 0.]])"
      ]
     },
     "execution_count": 38,
     "metadata": {},
     "output_type": "execute_result"
    }
   ],
   "source": [
    "array6"
   ]
  },
  {
   "cell_type": "markdown",
   "id": "dc2b7be0",
   "metadata": {},
   "source": [
    "#### 16、找到一个数组中，最接近一个数的索引"
   ]
  },
  {
   "cell_type": "code",
   "execution_count": 39,
   "id": "508dc9e7",
   "metadata": {},
   "outputs": [],
   "source": [
    "array6 = np.arange(100)"
   ]
  },
  {
   "cell_type": "code",
   "execution_count": 41,
   "id": "009f0d73",
   "metadata": {},
   "outputs": [
    {
     "data": {
      "text/plain": [
       "17.43815636606293"
      ]
     },
     "execution_count": 41,
     "metadata": {},
     "output_type": "execute_result"
    }
   ],
   "source": [
    "v = np.random.uniform(0,100)\n",
    "v"
   ]
  },
  {
   "cell_type": "code",
   "execution_count": 42,
   "id": "065bd30c",
   "metadata": {},
   "outputs": [
    {
     "data": {
      "text/plain": [
       "17"
      ]
     },
     "execution_count": 42,
     "metadata": {},
     "output_type": "execute_result"
    }
   ],
   "source": [
    "index = (np.abs(array6 - v)).argmin()\n",
    "array6[index]"
   ]
  },
  {
   "cell_type": "markdown",
   "id": "1540166b",
   "metadata": {},
   "source": [
    "#### 17、32float类型和32位int类型转换"
   ]
  },
  {
   "cell_type": "code",
   "execution_count": 43,
   "id": "74a51591",
   "metadata": {},
   "outputs": [],
   "source": [
    "array7 = np.arange(10, dtype = np.int32)"
   ]
  },
  {
   "cell_type": "code",
   "execution_count": 44,
   "id": "dc2a495a",
   "metadata": {},
   "outputs": [
    {
     "data": {
      "text/plain": [
       "dtype('int32')"
      ]
     },
     "execution_count": 44,
     "metadata": {},
     "output_type": "execute_result"
    }
   ],
   "source": [
    "array7.dtype"
   ]
  },
  {
   "cell_type": "code",
   "execution_count": 45,
   "id": "053c3149",
   "metadata": {},
   "outputs": [],
   "source": [
    "array7 = array7.astype(np.float32)"
   ]
  },
  {
   "cell_type": "code",
   "execution_count": 46,
   "id": "e47f8be6",
   "metadata": {},
   "outputs": [
    {
     "data": {
      "text/plain": [
       "dtype('float32')"
      ]
     },
     "execution_count": 46,
     "metadata": {},
     "output_type": "execute_result"
    }
   ],
   "source": [
    "array7.dtype"
   ]
  },
  {
   "cell_type": "markdown",
   "id": "2295e2ba",
   "metadata": {},
   "source": [
    "#### 18、打印数组元素位置与数值,np.ndenumerate(array)"
   ]
  },
  {
   "cell_type": "code",
   "execution_count": 47,
   "id": "e4f55ef9",
   "metadata": {},
   "outputs": [
    {
     "data": {
      "text/plain": [
       "array([[0, 1, 2],\n",
       "       [3, 4, 5],\n",
       "       [6, 7, 8]])"
      ]
     },
     "execution_count": 47,
     "metadata": {},
     "output_type": "execute_result"
    }
   ],
   "source": [
    "array8 = np.arange(9).reshape(3,3)\n",
    "array8"
   ]
  },
  {
   "cell_type": "code",
   "execution_count": 48,
   "id": "258da6c0",
   "metadata": {
    "scrolled": true
   },
   "outputs": [
    {
     "name": "stdout",
     "output_type": "stream",
     "text": [
      "(0, 0) 0\n",
      "(0, 1) 1\n",
      "(0, 2) 2\n",
      "(1, 0) 3\n",
      "(1, 1) 4\n",
      "(1, 2) 5\n",
      "(2, 0) 6\n",
      "(2, 1) 7\n",
      "(2, 2) 8\n"
     ]
    }
   ],
   "source": [
    "for index,value in np.ndenumerate(array8):\n",
    "    print(index,value)"
   ]
  },
  {
   "cell_type": "markdown",
   "id": "f2703ae7",
   "metadata": {},
   "source": [
    "#### 19、按照数组的某一列进行排序"
   ]
  },
  {
   "cell_type": "code",
   "execution_count": 50,
   "id": "747f79a4",
   "metadata": {},
   "outputs": [
    {
     "data": {
      "text/plain": [
       "array([[3, 1, 5],\n",
       "       [3, 4, 7],\n",
       "       [9, 3, 7]])"
      ]
     },
     "execution_count": 50,
     "metadata": {},
     "output_type": "execute_result"
    }
   ],
   "source": [
    "array9 = np.random.randint(0,10,(3,3))\n",
    "array9"
   ]
  },
  {
   "cell_type": "code",
   "execution_count": 51,
   "id": "0ba91ae3",
   "metadata": {},
   "outputs": [],
   "source": [
    "array9[:,1].sort()"
   ]
  },
  {
   "cell_type": "code",
   "execution_count": 52,
   "id": "8546a5a6",
   "metadata": {},
   "outputs": [
    {
     "data": {
      "text/plain": [
       "array([[3, 1, 5],\n",
       "       [3, 3, 7],\n",
       "       [9, 4, 7]])"
      ]
     },
     "execution_count": 52,
     "metadata": {},
     "output_type": "execute_result"
    }
   ],
   "source": [
    "array9"
   ]
  },
  {
   "cell_type": "markdown",
   "id": "04b12e9a",
   "metadata": {},
   "source": [
    "#### 20、统计数组中每个值出现的次数"
   ]
  },
  {
   "cell_type": "code",
   "execution_count": 53,
   "id": "e285dbf6",
   "metadata": {},
   "outputs": [],
   "source": [
    "z = np.random.randint(0,10,10)"
   ]
  },
  {
   "cell_type": "code",
   "execution_count": 54,
   "id": "c675f782",
   "metadata": {},
   "outputs": [
    {
     "data": {
      "text/plain": [
       "array([1, 2, 0, 0, 1, 1, 1, 3, 0, 1], dtype=int64)"
      ]
     },
     "execution_count": 54,
     "metadata": {},
     "output_type": "execute_result"
    }
   ],
   "source": [
    "np.bincount(z)"
   ]
  },
  {
   "cell_type": "markdown",
   "id": "a23ab70a",
   "metadata": {},
   "source": [
    "#### 21、对一个四维数组最后两维进行求和"
   ]
  },
  {
   "cell_type": "code",
   "execution_count": 55,
   "id": "b3f7f969",
   "metadata": {},
   "outputs": [
    {
     "data": {
      "text/plain": [
       "array([[109, 132, 107, 112, 102],\n",
       "       [ 95, 121, 101, 131, 122],\n",
       "       [117, 134, 140, 125, 113],\n",
       "       [135, 101, 122, 104, 131],\n",
       "       [123, 125, 109, 112, 100]])"
      ]
     },
     "execution_count": 55,
     "metadata": {},
     "output_type": "execute_result"
    }
   ],
   "source": [
    "z = np.random.randint(0,10,(5,5,5,5))\n",
    "res = z.sum(axis = (-2,-1))\n",
    "res"
   ]
  },
  {
   "cell_type": "markdown",
   "id": "42ec39f9",
   "metadata": {},
   "source": [
    "#### 22、交换矩阵的两行"
   ]
  },
  {
   "cell_type": "code",
   "execution_count": 56,
   "id": "ac9bebde",
   "metadata": {},
   "outputs": [
    {
     "data": {
      "text/plain": [
       "array([[ 0,  1,  2,  3,  4],\n",
       "       [ 5,  6,  7,  8,  9],\n",
       "       [10, 11, 12, 13, 14],\n",
       "       [15, 16, 17, 18, 19],\n",
       "       [20, 21, 22, 23, 24]])"
      ]
     },
     "execution_count": 56,
     "metadata": {},
     "output_type": "execute_result"
    }
   ],
   "source": [
    "z = np.arange(25).reshape(5,5)\n",
    "z"
   ]
  },
  {
   "cell_type": "code",
   "execution_count": 57,
   "id": "fe69fcc8",
   "metadata": {},
   "outputs": [],
   "source": [
    "z[0,1]=z[1,0]"
   ]
  },
  {
   "cell_type": "code",
   "execution_count": 58,
   "id": "b5b678a2",
   "metadata": {},
   "outputs": [
    {
     "data": {
      "text/plain": [
       "array([[ 0,  5,  2,  3,  4],\n",
       "       [ 5,  6,  7,  8,  9],\n",
       "       [10, 11, 12, 13, 14],\n",
       "       [15, 16, 17, 18, 19],\n",
       "       [20, 21, 22, 23, 24]])"
      ]
     },
     "execution_count": 58,
     "metadata": {},
     "output_type": "execute_result"
    }
   ],
   "source": [
    "z"
   ]
  },
  {
   "cell_type": "markdown",
   "id": "ec6cefc0",
   "metadata": {},
   "source": [
    "#### 23、找到一个数组中最常出现的数字"
   ]
  },
  {
   "cell_type": "code",
   "execution_count": 59,
   "id": "9555418b",
   "metadata": {},
   "outputs": [],
   "source": [
    "z = np.random.randint(0,50,50)"
   ]
  },
  {
   "cell_type": "code",
   "execution_count": 60,
   "id": "7620f01c",
   "metadata": {},
   "outputs": [
    {
     "data": {
      "text/plain": [
       "19"
      ]
     },
     "execution_count": 60,
     "metadata": {},
     "output_type": "execute_result"
    }
   ],
   "source": [
    "np.bincount(z).argmax()"
   ]
  },
  {
   "cell_type": "markdown",
   "id": "b9f70634",
   "metadata": {},
   "source": [
    "#### 24、快速查找"
   ]
  },
  {
   "cell_type": "code",
   "execution_count": 68,
   "id": "06ca73bf",
   "metadata": {},
   "outputs": [],
   "source": [
    "z = np.arange(10000)\n",
    "np.random.shuffle(z)"
   ]
  },
  {
   "cell_type": "code",
   "execution_count": 62,
   "id": "f209938f",
   "metadata": {},
   "outputs": [
    {
     "data": {
      "text/plain": [
       "array([9998, 9999, 9997, 9995, 9996])"
      ]
     },
     "execution_count": 62,
     "metadata": {},
     "output_type": "execute_result"
    }
   ],
   "source": [
    "z[np.argpartition(-z,5)[:5]]"
   ]
  },
  {
   "cell_type": "markdown",
   "id": "d893d50d",
   "metadata": {},
   "source": [
    "#### 25、去除掉数组中，所有元素都相同的数据"
   ]
  },
  {
   "cell_type": "code",
   "execution_count": 63,
   "id": "1b6b6add",
   "metadata": {},
   "outputs": [
    {
     "data": {
      "text/plain": [
       "array([[2, 1, 1],\n",
       "       [0, 2, 1],\n",
       "       [1, 2, 0],\n",
       "       [2, 0, 0],\n",
       "       [1, 0, 1],\n",
       "       [0, 2, 0],\n",
       "       [1, 0, 1],\n",
       "       [1, 1, 0],\n",
       "       [2, 2, 2],\n",
       "       [2, 0, 2]])"
      ]
     },
     "execution_count": 63,
     "metadata": {},
     "output_type": "execute_result"
    }
   ],
   "source": [
    "np.set_printoptions(threshold=np.inf)\n",
    "z = np.random.randint(0,3,(10,3))\n",
    "z"
   ]
  },
  {
   "cell_type": "code",
   "execution_count": 65,
   "id": "cc9faee1",
   "metadata": {},
   "outputs": [
    {
     "data": {
      "text/plain": [
       "array([[1, 1],\n",
       "       [2, 1],\n",
       "       [2, 0],\n",
       "       [0, 0],\n",
       "       [0, 1],\n",
       "       [2, 0],\n",
       "       [0, 1],\n",
       "       [1, 0],\n",
       "       [2, 2],\n",
       "       [0, 2]])"
      ]
     },
     "execution_count": 65,
     "metadata": {},
     "output_type": "execute_result"
    }
   ],
   "source": [
    "z[:,1:]"
   ]
  },
  {
   "cell_type": "code",
   "execution_count": 64,
   "id": "bbbe731d",
   "metadata": {},
   "outputs": [
    {
     "data": {
      "text/plain": [
       "array([False, False, False, False, False, False, False, False,  True,\n",
       "       False])"
      ]
     },
     "execution_count": 64,
     "metadata": {},
     "output_type": "execute_result"
    }
   ],
   "source": [
    "np.all(z[:,:-1] == z[:,1:],axis =1 )"
   ]
  }
 ],
 "metadata": {
  "kernelspec": {
   "display_name": "Python 3 (ipykernel)",
   "language": "python",
   "name": "python3"
  },
  "language_info": {
   "codemirror_mode": {
    "name": "ipython",
    "version": 3
   },
   "file_extension": ".py",
   "mimetype": "text/x-python",
   "name": "python",
   "nbconvert_exporter": "python",
   "pygments_lexer": "ipython3",
   "version": "3.9.12"
  }
 },
 "nbformat": 4,
 "nbformat_minor": 5
}
