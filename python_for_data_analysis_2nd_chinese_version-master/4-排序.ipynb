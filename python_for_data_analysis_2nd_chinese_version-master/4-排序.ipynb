{
 "cells": [
  {
   "cell_type": "code",
   "execution_count": 1,
   "id": "d5e1db1c",
   "metadata": {},
   "outputs": [],
   "source": [
    "import numpy as np"
   ]
  },
  {
   "cell_type": "code",
   "execution_count": 3,
   "id": "658eab7b",
   "metadata": {},
   "outputs": [],
   "source": [
    "tang_array = np.array([[1.5, 1.3, 7.5],\n",
    "                       [5.6, 7.8, 1.2]])"
   ]
  },
  {
   "cell_type": "code",
   "execution_count": 5,
   "id": "6fff4c96",
   "metadata": {},
   "outputs": [
    {
     "data": {
      "text/plain": [
       "array([[1.5, 1.3, 7.5],\n",
       "       [5.6, 7.8, 1.2]])"
      ]
     },
     "execution_count": 5,
     "metadata": {},
     "output_type": "execute_result"
    }
   ],
   "source": [
    "tang_array"
   ]
  },
  {
   "cell_type": "code",
   "execution_count": 6,
   "id": "d62dcd49",
   "metadata": {},
   "outputs": [
    {
     "data": {
      "text/plain": [
       "array([[1.3, 1.5, 7.5],\n",
       "       [1.2, 5.6, 7.8]])"
      ]
     },
     "execution_count": 6,
     "metadata": {},
     "output_type": "execute_result"
    }
   ],
   "source": [
    "np.sort(tang_array)"
   ]
  },
  {
   "cell_type": "code",
   "execution_count": 7,
   "id": "d2371c62",
   "metadata": {},
   "outputs": [
    {
     "data": {
      "text/plain": [
       "array([[1.5, 1.3, 1.2],\n",
       "       [5.6, 7.8, 7.5]])"
      ]
     },
     "execution_count": 7,
     "metadata": {},
     "output_type": "execute_result"
    }
   ],
   "source": [
    "np.sort(tang_array, axis = 0)"
   ]
  },
  {
   "cell_type": "code",
   "execution_count": 8,
   "id": "26680395",
   "metadata": {},
   "outputs": [
    {
     "data": {
      "text/plain": [
       "array([[1, 0, 2],\n",
       "       [2, 0, 1]], dtype=int64)"
      ]
     },
     "execution_count": 8,
     "metadata": {},
     "output_type": "execute_result"
    }
   ],
   "source": [
    "np.argsort(tang_array)"
   ]
  },
  {
   "cell_type": "code",
   "execution_count": 9,
   "id": "807fcf87",
   "metadata": {},
   "outputs": [],
   "source": [
    "tang_array = np.linspace(0,10,10)"
   ]
  },
  {
   "cell_type": "code",
   "execution_count": 10,
   "id": "1e11e122",
   "metadata": {},
   "outputs": [
    {
     "data": {
      "text/plain": [
       "array([ 0.        ,  1.11111111,  2.22222222,  3.33333333,  4.44444444,\n",
       "        5.55555556,  6.66666667,  7.77777778,  8.88888889, 10.        ])"
      ]
     },
     "execution_count": 10,
     "metadata": {},
     "output_type": "execute_result"
    }
   ],
   "source": [
    "tang_array"
   ]
  },
  {
   "cell_type": "code",
   "execution_count": 11,
   "id": "f3189359",
   "metadata": {},
   "outputs": [],
   "source": [
    "values = np.array([2.5,6.6,7])"
   ]
  },
  {
   "cell_type": "code",
   "execution_count": 12,
   "id": "d64b8e26",
   "metadata": {},
   "outputs": [
    {
     "data": {
      "text/plain": [
       "array([3, 6, 7], dtype=int64)"
      ]
     },
     "execution_count": 12,
     "metadata": {},
     "output_type": "execute_result"
    }
   ],
   "source": [
    "np.searchsorted(tang_array, values)"
   ]
  },
  {
   "cell_type": "code",
   "execution_count": 13,
   "id": "dde1021c",
   "metadata": {},
   "outputs": [],
   "source": [
    "tang_array = np.array([[1,0,6],[1,7,0],[2,3,1],[2,4,0]])"
   ]
  },
  {
   "cell_type": "code",
   "execution_count": 14,
   "id": "821602f9",
   "metadata": {},
   "outputs": [
    {
     "data": {
      "text/plain": [
       "array([[1, 0, 6],\n",
       "       [1, 7, 0],\n",
       "       [2, 3, 1],\n",
       "       [2, 4, 0]])"
      ]
     },
     "execution_count": 14,
     "metadata": {},
     "output_type": "execute_result"
    }
   ],
   "source": [
    "tang_array"
   ]
  },
  {
   "cell_type": "code",
   "execution_count": null,
   "id": "cfcb72e0",
   "metadata": {},
   "outputs": [],
   "source": [
    "index = np.lexsort([ ])"
   ]
  }
 ],
 "metadata": {
  "kernelspec": {
   "display_name": "Python 3 (ipykernel)",
   "language": "python",
   "name": "python3"
  },
  "language_info": {
   "codemirror_mode": {
    "name": "ipython",
    "version": 3
   },
   "file_extension": ".py",
   "mimetype": "text/x-python",
   "name": "python",
   "nbconvert_exporter": "python",
   "pygments_lexer": "ipython3",
   "version": "3.9.12"
  }
 },
 "nbformat": 4,
 "nbformat_minor": 5
}
