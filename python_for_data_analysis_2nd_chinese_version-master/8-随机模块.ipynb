{
 "cells": [
  {
   "cell_type": "markdown",
   "id": "76a96724",
   "metadata": {
    "tags": []
   },
   "source": [
    "# Numpy的随机模块"
   ]
  },
  {
   "cell_type": "code",
   "execution_count": 1,
   "id": "2b466fa1",
   "metadata": {},
   "outputs": [],
   "source": [
    "import numpy as np"
   ]
  },
  {
   "cell_type": "markdown",
   "id": "9810be3f",
   "metadata": {
    "tags": []
   },
   "source": [
    "#### 1、随机浮点数,默认随机数范围[0,1]"
   ]
  },
  {
   "cell_type": "code",
   "execution_count": 2,
   "id": "4ae3729c",
   "metadata": {
    "scrolled": true
   },
   "outputs": [
    {
     "data": {
      "text/plain": [
       "array([[0.7970747 , 0.0955766 ],\n",
       "       [0.31010943, 0.33705939],\n",
       "       [0.5687431 , 0.15840771]])"
      ]
     },
     "execution_count": 2,
     "metadata": {},
     "output_type": "execute_result"
    }
   ],
   "source": [
    "np.random.rand(3,2)"
   ]
  },
  {
   "cell_type": "code",
   "execution_count": 3,
   "id": "dd80c1fa",
   "metadata": {},
   "outputs": [
    {
     "data": {
      "text/plain": [
       "0.4118943515978717"
      ]
     },
     "execution_count": 3,
     "metadata": {},
     "output_type": "execute_result"
    }
   ],
   "source": [
    "np.random.rand()"
   ]
  },
  {
   "cell_type": "code",
   "execution_count": 4,
   "id": "6d78e2ef",
   "metadata": {},
   "outputs": [
    {
     "data": {
      "text/plain": [
       "0.8753250184661481"
      ]
     },
     "execution_count": 4,
     "metadata": {},
     "output_type": "execute_result"
    }
   ],
   "source": [
    "np.random.random_sample()"
   ]
  },
  {
   "cell_type": "markdown",
   "id": "e30dbcfe",
   "metadata": {},
   "source": [
    "### 2、随机整数，左闭右开，np.random.randint(左闭，右开，size=)"
   ]
  },
  {
   "cell_type": "code",
   "execution_count": 5,
   "id": "338f8ccd",
   "metadata": {},
   "outputs": [
    {
     "data": {
      "text/plain": [
       "array([[6, 4, 1, 0],\n",
       "       [7, 2, 0, 1],\n",
       "       [7, 7, 9, 3],\n",
       "       [5, 9, 7, 9],\n",
       "       [8, 6, 7, 6]])"
      ]
     },
     "execution_count": 5,
     "metadata": {},
     "output_type": "execute_result"
    }
   ],
   "source": [
    "np.random.randint(0,10,size = (5,4))"
   ]
  },
  {
   "cell_type": "code",
   "execution_count": 6,
   "id": "de6bc2c4",
   "metadata": {},
   "outputs": [
    {
     "data": {
      "text/plain": [
       "array([9, 4, 1])"
      ]
     },
     "execution_count": 6,
     "metadata": {},
     "output_type": "execute_result"
    }
   ],
   "source": [
    "np.random.randint(0,10,3)"
   ]
  },
  {
   "cell_type": "markdown",
   "id": "a9dfa8cd",
   "metadata": {},
   "source": [
    "### 3、高斯分布"
   ]
  },
  {
   "cell_type": "code",
   "execution_count": 7,
   "id": "1ecd1e3f",
   "metadata": {},
   "outputs": [],
   "source": [
    "mu, sigma= 0, 0.1"
   ]
  },
  {
   "cell_type": "code",
   "execution_count": 8,
   "id": "a2c7628b",
   "metadata": {
    "scrolled": true
   },
   "outputs": [
    {
     "data": {
      "text/plain": [
       "array([ 0.04197255,  0.12634725,  0.0496995 ,  0.13357762,  0.03309946,\n",
       "       -0.00824288, -0.05967185, -0.10782899, -0.17100911, -0.00761046])"
      ]
     },
     "execution_count": 8,
     "metadata": {},
     "output_type": "execute_result"
    }
   ],
   "source": [
    "np.random.normal(mu, sigma, 10)"
   ]
  },
  {
   "cell_type": "code",
   "execution_count": 10,
   "id": "58cbf456",
   "metadata": {},
   "outputs": [
    {
     "data": {
      "text/plain": [
       "array([ 0.02456,  0.07385,  0.03016, -0.1647 ,  0.01226,  0.22163,\n",
       "        0.09274,  0.0406 , -0.00421,  0.00473])"
      ]
     },
     "execution_count": 10,
     "metadata": {},
     "output_type": "execute_result"
    }
   ],
   "source": [
    "np.random.normal(mu, sigma, 10)"
   ]
  },
  {
   "cell_type": "markdown",
   "id": "0042f46d",
   "metadata": {},
   "source": [
    "### 4、改变精度 np.set_printoptions(precision= )"
   ]
  },
  {
   "cell_type": "code",
   "execution_count": 9,
   "id": "fd35e381",
   "metadata": {},
   "outputs": [],
   "source": [
    "np.set_printoptions(precision= 5)"
   ]
  },
  {
   "cell_type": "markdown",
   "id": "04ab04f4",
   "metadata": {},
   "source": [
    "### 5、洗牌（打乱顺序）np.random.shuffle()"
   ]
  },
  {
   "cell_type": "code",
   "execution_count": 11,
   "id": "9cd75f1d",
   "metadata": {},
   "outputs": [
    {
     "data": {
      "text/plain": [
       "array([0, 1, 2, 3, 4, 5, 6, 7, 8, 9])"
      ]
     },
     "execution_count": 11,
     "metadata": {},
     "output_type": "execute_result"
    }
   ],
   "source": [
    "tang_array = np.arange(10)\n",
    "tang_array"
   ]
  },
  {
   "cell_type": "code",
   "execution_count": 12,
   "id": "7aecf16b",
   "metadata": {},
   "outputs": [
    {
     "data": {
      "text/plain": [
       "array([4, 8, 5, 7, 2, 6, 1, 9, 0, 3])"
      ]
     },
     "execution_count": 12,
     "metadata": {},
     "output_type": "execute_result"
    }
   ],
   "source": [
    "np.random.shuffle(tang_array)\n",
    "tang_array"
   ]
  },
  {
   "cell_type": "markdown",
   "id": "637410ff",
   "metadata": {},
   "source": [
    "### 6、随机种子,设定好随机种子，后续随机数都是一样的"
   ]
  },
  {
   "cell_type": "code",
   "execution_count": 20,
   "id": "1d4d3194",
   "metadata": {},
   "outputs": [],
   "source": [
    "np.random.seed(0)"
   ]
  },
  {
   "cell_type": "code",
   "execution_count": 22,
   "id": "7b79a8ff",
   "metadata": {},
   "outputs": [
    {
     "data": {
      "text/plain": [
       "array([ 0.0144 ,  0.14543,  0.0761 ,  0.01217,  0.04439,  0.03337,\n",
       "        0.14941, -0.02052,  0.03131, -0.08541])"
      ]
     },
     "execution_count": 22,
     "metadata": {},
     "output_type": "execute_result"
    }
   ],
   "source": [
    "np.random.normal(mu, sigma, 10)"
   ]
  }
 ],
 "metadata": {
  "kernelspec": {
   "display_name": "Python 3 (ipykernel)",
   "language": "python",
   "name": "python3"
  },
  "language_info": {
   "codemirror_mode": {
    "name": "ipython",
    "version": 3
   },
   "file_extension": ".py",
   "mimetype": "text/x-python",
   "name": "python",
   "nbconvert_exporter": "python",
   "pygments_lexer": "ipython3",
   "version": "3.9.12"
  }
 },
 "nbformat": 4,
 "nbformat_minor": 5
}
