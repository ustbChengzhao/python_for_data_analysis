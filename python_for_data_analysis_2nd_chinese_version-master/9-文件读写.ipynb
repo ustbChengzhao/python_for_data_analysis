{
 "cells": [
  {
   "cell_type": "code",
   "execution_count": 1,
   "id": "e5776bf2",
   "metadata": {},
   "outputs": [],
   "source": [
    "import numpy as np"
   ]
  },
  {
   "cell_type": "code",
   "execution_count": 2,
   "id": "7f92277b",
   "metadata": {},
   "outputs": [
    {
     "name": "stdout",
     "output_type": "stream",
     "text": [
      "Writing tang.txt\n"
     ]
    }
   ],
   "source": [
    "%%writefile tang.txt\n",
    "1 2 3 4 5 6\n",
    "2 3 4 5 6 7"
   ]
  },
  {
   "cell_type": "code",
   "execution_count": null,
   "id": "d43c7391",
   "metadata": {},
   "outputs": [],
   "source": [
    "data = []\n",
    "with open('tang.txt') as f\n",
    "    for line in f\n",
    "        fileds = line.split()\n",
    "        cur_data = [for]"
   ]
  }
 ],
 "metadata": {
  "kernelspec": {
   "display_name": "Python 3 (ipykernel)",
   "language": "python",
   "name": "python3"
  },
  "language_info": {
   "codemirror_mode": {
    "name": "ipython",
    "version": 3
   },
   "file_extension": ".py",
   "mimetype": "text/x-python",
   "name": "python",
   "nbconvert_exporter": "python",
   "pygments_lexer": "ipython3",
   "version": "3.9.12"
  }
 },
 "nbformat": 4,
 "nbformat_minor": 5
}
