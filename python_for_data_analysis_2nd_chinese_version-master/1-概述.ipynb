{
 "cells": [
  {
   "cell_type": "code",
   "execution_count": 1,
   "id": "b23801df",
   "metadata": {},
   "outputs": [],
   "source": [
    "import numpy as np"
   ]
  },
  {
   "cell_type": "code",
   "execution_count": 2,
   "id": "407db3f7",
   "metadata": {
    "tags": []
   },
   "outputs": [],
   "source": [
    "array = [1,2,3,4,5]"
   ]
  },
  {
   "cell_type": "code",
   "execution_count": 3,
   "id": "850c4c60-dabe-41f2-96e9-5ea7364f8a1e",
   "metadata": {},
   "outputs": [
    {
     "data": {
      "text/plain": [
       "[1, 2, 3, 4, 5]"
      ]
     },
     "execution_count": 3,
     "metadata": {},
     "output_type": "execute_result"
    }
   ],
   "source": [
    "array"
   ]
  },
  {
   "cell_type": "markdown",
   "id": "494efd5d-6ee3-4da2-991c-b0a620846aed",
   "metadata": {},
   "source": [
    "#### 用数组初始化array"
   ]
  },
  {
   "cell_type": "code",
   "execution_count": 4,
   "id": "b5d8f63a",
   "metadata": {},
   "outputs": [],
   "source": [
    "array = np.array([1,2,3,4,5])"
   ]
  },
  {
   "cell_type": "code",
   "execution_count": 5,
   "id": "b168bfd5",
   "metadata": {},
   "outputs": [
    {
     "data": {
      "text/plain": [
       "array([1, 2, 3, 4, 5])"
      ]
     },
     "execution_count": 5,
     "metadata": {},
     "output_type": "execute_result"
    }
   ],
   "source": [
    "array"
   ]
  },
  {
   "cell_type": "markdown",
   "id": "1390b1ce-0574-456f-a2ef-b82287aeff49",
   "metadata": {},
   "source": [
    "#### array的运算具有广播性"
   ]
  },
  {
   "cell_type": "code",
   "execution_count": 18,
   "id": "6b23897e",
   "metadata": {},
   "outputs": [],
   "source": [
    "array+=1"
   ]
  },
  {
   "cell_type": "code",
   "execution_count": 7,
   "id": "67d69a3c",
   "metadata": {},
   "outputs": [
    {
     "data": {
      "text/plain": [
       "numpy.ndarray"
      ]
     },
     "execution_count": 7,
     "metadata": {},
     "output_type": "execute_result"
    }
   ],
   "source": [
    "type(array)"
   ]
  },
  {
   "cell_type": "code",
   "execution_count": 8,
   "id": "c7024207",
   "metadata": {},
   "outputs": [
    {
     "data": {
      "text/plain": [
       "array([2, 3, 4, 5, 6])"
      ]
     },
     "execution_count": 8,
     "metadata": {},
     "output_type": "execute_result"
    }
   ],
   "source": [
    "array"
   ]
  },
  {
   "cell_type": "code",
   "execution_count": 9,
   "id": "83875e3c",
   "metadata": {},
   "outputs": [],
   "source": [
    "array2 = array + 1"
   ]
  },
  {
   "cell_type": "code",
   "execution_count": 10,
   "id": "09477e13",
   "metadata": {},
   "outputs": [
    {
     "data": {
      "text/plain": [
       "array([3, 4, 5, 6, 7])"
      ]
     },
     "execution_count": 10,
     "metadata": {},
     "output_type": "execute_result"
    }
   ],
   "source": [
    "array2"
   ]
  },
  {
   "cell_type": "markdown",
   "id": "ead33360-3ce2-4549-95f5-0d7aaa3275d1",
   "metadata": {},
   "source": [
    "#### 数组间的运算，数组必须具有同样的shape"
   ]
  },
  {
   "cell_type": "code",
   "execution_count": 11,
   "id": "13cecf8e",
   "metadata": {},
   "outputs": [
    {
     "data": {
      "text/plain": [
       "array([ 5,  7,  9, 11, 13])"
      ]
     },
     "execution_count": 11,
     "metadata": {},
     "output_type": "execute_result"
    }
   ],
   "source": [
    "array2 + array"
   ]
  },
  {
   "cell_type": "code",
   "execution_count": 12,
   "id": "37fd78f9",
   "metadata": {},
   "outputs": [
    {
     "data": {
      "text/plain": [
       "array([ 6, 12, 20, 30, 42])"
      ]
     },
     "execution_count": 12,
     "metadata": {},
     "output_type": "execute_result"
    }
   ],
   "source": [
    "array2 * array"
   ]
  },
  {
   "cell_type": "markdown",
   "id": "c5d44389-d32a-4999-9111-f92ecab3b2a9",
   "metadata": {},
   "source": [
    "#### array支持下标索引"
   ]
  },
  {
   "cell_type": "code",
   "execution_count": 13,
   "id": "6cca9bac",
   "metadata": {},
   "outputs": [
    {
     "data": {
      "text/plain": [
       "4"
      ]
     },
     "execution_count": 13,
     "metadata": {},
     "output_type": "execute_result"
    }
   ],
   "source": [
    "array[2]"
   ]
  },
  {
   "cell_type": "markdown",
   "id": "35cec46e-f618-4a36-bae5-0ae6bcfc9aca",
   "metadata": {},
   "source": [
    "#### array支持切片操作"
   ]
  },
  {
   "cell_type": "code",
   "execution_count": 14,
   "id": "e17aec63",
   "metadata": {},
   "outputs": [
    {
     "data": {
      "text/plain": [
       "array([2, 3])"
      ]
     },
     "execution_count": 14,
     "metadata": {},
     "output_type": "execute_result"
    }
   ],
   "source": [
    "array[:2]"
   ]
  },
  {
   "cell_type": "markdown",
   "id": "bc807ebc-d0c7-4051-8df2-e03058d2d977",
   "metadata": {},
   "source": [
    "#### array的形状"
   ]
  },
  {
   "cell_type": "code",
   "execution_count": 15,
   "id": "813c272a",
   "metadata": {},
   "outputs": [
    {
     "data": {
      "text/plain": [
       "(5,)"
      ]
     },
     "execution_count": 15,
     "metadata": {},
     "output_type": "execute_result"
    }
   ],
   "source": [
    "array.shape"
   ]
  },
  {
   "cell_type": "markdown",
   "id": "79a74256-b543-4287-b2e5-dc304d6eee11",
   "metadata": {},
   "source": [
    "#### 二维数组"
   ]
  },
  {
   "cell_type": "code",
   "execution_count": 16,
   "id": "49368985",
   "metadata": {},
   "outputs": [
    {
     "data": {
      "text/plain": [
       "array([[1, 2, 3],\n",
       "       [2, 3, 3]])"
      ]
     },
     "execution_count": 16,
     "metadata": {},
     "output_type": "execute_result"
    }
   ],
   "source": [
    "np.array([[1,2,3],[2,3,3]])"
   ]
  },
  {
   "cell_type": "code",
   "execution_count": 17,
   "id": "070b4b99",
   "metadata": {},
   "outputs": [
    {
     "data": {
      "text/plain": [
       "(2, 3)"
      ]
     },
     "execution_count": 17,
     "metadata": {},
     "output_type": "execute_result"
    }
   ],
   "source": [
    "np.array([[1,2,3],[2,3,3]]).shape"
   ]
  }
 ],
 "metadata": {
  "kernelspec": {
   "display_name": "Python 3 (ipykernel)",
   "language": "python",
   "name": "python3"
  },
  "language_info": {
   "codemirror_mode": {
    "name": "ipython",
    "version": 3
   },
   "file_extension": ".py",
   "mimetype": "text/x-python",
   "name": "python",
   "nbconvert_exporter": "python",
   "pygments_lexer": "ipython3",
   "version": "3.9.12"
  }
 },
 "nbformat": 4,
 "nbformat_minor": 5
}
