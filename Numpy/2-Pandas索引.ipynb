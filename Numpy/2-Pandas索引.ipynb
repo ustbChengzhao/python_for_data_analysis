{
 "cells": [
  {
   "cell_type": "code",
   "execution_count": 55,
   "id": "6eb0954b",
   "metadata": {},
   "outputs": [],
   "source": [
    "import pandas as pd\n",
    "df = pd.read_csv('./titanic/train.csv')"
   ]
  },
  {
   "cell_type": "markdown",
   "id": "d3df90db",
   "metadata": {},
   "source": [
    "#### 获取其中多列，传入列表"
   ]
  },
  {
   "cell_type": "code",
   "execution_count": 56,
   "id": "016ce5ee",
   "metadata": {},
   "outputs": [
    {
     "data": {
      "text/html": [
       "<div>\n",
       "<style scoped>\n",
       "    .dataframe tbody tr th:only-of-type {\n",
       "        vertical-align: middle;\n",
       "    }\n",
       "\n",
       "    .dataframe tbody tr th {\n",
       "        vertical-align: top;\n",
       "    }\n",
       "\n",
       "    .dataframe thead th {\n",
       "        text-align: right;\n",
       "    }\n",
       "</style>\n",
       "<table border=\"1\" class=\"dataframe\">\n",
       "  <thead>\n",
       "    <tr style=\"text-align: right;\">\n",
       "      <th></th>\n",
       "      <th>Age</th>\n",
       "      <th>Fare</th>\n",
       "    </tr>\n",
       "  </thead>\n",
       "  <tbody>\n",
       "    <tr>\n",
       "      <th>0</th>\n",
       "      <td>22.0</td>\n",
       "      <td>7.2500</td>\n",
       "    </tr>\n",
       "    <tr>\n",
       "      <th>1</th>\n",
       "      <td>38.0</td>\n",
       "      <td>71.2833</td>\n",
       "    </tr>\n",
       "    <tr>\n",
       "      <th>2</th>\n",
       "      <td>26.0</td>\n",
       "      <td>7.9250</td>\n",
       "    </tr>\n",
       "    <tr>\n",
       "      <th>3</th>\n",
       "      <td>35.0</td>\n",
       "      <td>53.1000</td>\n",
       "    </tr>\n",
       "    <tr>\n",
       "      <th>4</th>\n",
       "      <td>35.0</td>\n",
       "      <td>8.0500</td>\n",
       "    </tr>\n",
       "  </tbody>\n",
       "</table>\n",
       "</div>"
      ],
      "text/plain": [
       "    Age     Fare\n",
       "0  22.0   7.2500\n",
       "1  38.0  71.2833\n",
       "2  26.0   7.9250\n",
       "3  35.0  53.1000\n",
       "4  35.0   8.0500"
      ]
     },
     "execution_count": 56,
     "metadata": {},
     "output_type": "execute_result"
    }
   ],
   "source": [
    "df[['Age','Fare']][:5]"
   ]
  },
  {
   "cell_type": "markdown",
   "id": "9b50f7b4",
   "metadata": {},
   "source": [
    "####  iloc 用position定位\n",
    "\n"
   ]
  },
  {
   "cell_type": "code",
   "execution_count": 72,
   "id": "3868d536",
   "metadata": {},
   "outputs": [
    {
     "data": {
      "text/html": [
       "<div>\n",
       "<style scoped>\n",
       "    .dataframe tbody tr th:only-of-type {\n",
       "        vertical-align: middle;\n",
       "    }\n",
       "\n",
       "    .dataframe tbody tr th {\n",
       "        vertical-align: top;\n",
       "    }\n",
       "\n",
       "    .dataframe thead th {\n",
       "        text-align: right;\n",
       "    }\n",
       "</style>\n",
       "<table border=\"1\" class=\"dataframe\">\n",
       "  <thead>\n",
       "    <tr style=\"text-align: right;\">\n",
       "      <th></th>\n",
       "      <th>Survived</th>\n",
       "      <th>Pclass</th>\n",
       "    </tr>\n",
       "    <tr>\n",
       "      <th>Name</th>\n",
       "      <th></th>\n",
       "      <th></th>\n",
       "    </tr>\n",
       "  </thead>\n",
       "  <tbody>\n",
       "    <tr>\n",
       "      <th>Braund, Mr. Owen Harris</th>\n",
       "      <td>0</td>\n",
       "      <td>3</td>\n",
       "    </tr>\n",
       "    <tr>\n",
       "      <th>Cumings, Mrs. John Bradley (Florence Briggs Thayer)</th>\n",
       "      <td>1</td>\n",
       "      <td>1</td>\n",
       "    </tr>\n",
       "    <tr>\n",
       "      <th>Heikkinen, Miss. Laina</th>\n",
       "      <td>1</td>\n",
       "      <td>3</td>\n",
       "    </tr>\n",
       "    <tr>\n",
       "      <th>Futrelle, Mrs. Jacques Heath (Lily May Peel)</th>\n",
       "      <td>1</td>\n",
       "      <td>1</td>\n",
       "    </tr>\n",
       "    <tr>\n",
       "      <th>Allen, Mr. William Henry</th>\n",
       "      <td>0</td>\n",
       "      <td>3</td>\n",
       "    </tr>\n",
       "  </tbody>\n",
       "</table>\n",
       "</div>"
      ],
      "text/plain": [
       "                                                    Survived  Pclass\n",
       "Name                                                                \n",
       "Braund, Mr. Owen Harris                                    0       3\n",
       "Cumings, Mrs. John Bradley (Florence Briggs Tha...         1       1\n",
       "Heikkinen, Miss. Laina                                     1       3\n",
       "Futrelle, Mrs. Jacques Heath (Lily May Peel)               1       1\n",
       "Allen, Mr. William Henry                                   0       3"
      ]
     },
     "execution_count": 72,
     "metadata": {},
     "output_type": "execute_result"
    }
   ],
   "source": [
    "df.iloc[0:5,1:3]"
   ]
  },
  {
   "cell_type": "code",
   "execution_count": 58,
   "id": "d789f05a",
   "metadata": {},
   "outputs": [],
   "source": [
    "df = df.set_index('Name')"
   ]
  },
  {
   "cell_type": "markdown",
   "id": "fe6b75ea",
   "metadata": {},
   "source": [
    "#### iloc用lable定位"
   ]
  },
  {
   "cell_type": "code",
   "execution_count": 59,
   "id": "bb872737",
   "metadata": {},
   "outputs": [
    {
     "data": {
      "text/html": [
       "<div>\n",
       "<style scoped>\n",
       "    .dataframe tbody tr th:only-of-type {\n",
       "        vertical-align: middle;\n",
       "    }\n",
       "\n",
       "    .dataframe tbody tr th {\n",
       "        vertical-align: top;\n",
       "    }\n",
       "\n",
       "    .dataframe thead th {\n",
       "        text-align: right;\n",
       "    }\n",
       "</style>\n",
       "<table border=\"1\" class=\"dataframe\">\n",
       "  <thead>\n",
       "    <tr style=\"text-align: right;\">\n",
       "      <th></th>\n",
       "      <th>PassengerId</th>\n",
       "      <th>Survived</th>\n",
       "      <th>Pclass</th>\n",
       "      <th>Sex</th>\n",
       "      <th>Age</th>\n",
       "      <th>SibSp</th>\n",
       "      <th>Parch</th>\n",
       "      <th>Ticket</th>\n",
       "      <th>Fare</th>\n",
       "      <th>Cabin</th>\n",
       "      <th>Embarked</th>\n",
       "    </tr>\n",
       "    <tr>\n",
       "      <th>Name</th>\n",
       "      <th></th>\n",
       "      <th></th>\n",
       "      <th></th>\n",
       "      <th></th>\n",
       "      <th></th>\n",
       "      <th></th>\n",
       "      <th></th>\n",
       "      <th></th>\n",
       "      <th></th>\n",
       "      <th></th>\n",
       "      <th></th>\n",
       "    </tr>\n",
       "  </thead>\n",
       "  <tbody>\n",
       "    <tr>\n",
       "      <th>Braund, Mr. Owen Harris</th>\n",
       "      <td>1</td>\n",
       "      <td>0</td>\n",
       "      <td>3</td>\n",
       "      <td>male</td>\n",
       "      <td>22.0</td>\n",
       "      <td>1</td>\n",
       "      <td>0</td>\n",
       "      <td>A/5 21171</td>\n",
       "      <td>7.2500</td>\n",
       "      <td>NaN</td>\n",
       "      <td>S</td>\n",
       "    </tr>\n",
       "    <tr>\n",
       "      <th>Cumings, Mrs. John Bradley (Florence Briggs Thayer)</th>\n",
       "      <td>2</td>\n",
       "      <td>1</td>\n",
       "      <td>1</td>\n",
       "      <td>female</td>\n",
       "      <td>38.0</td>\n",
       "      <td>1</td>\n",
       "      <td>0</td>\n",
       "      <td>PC 17599</td>\n",
       "      <td>71.2833</td>\n",
       "      <td>C85</td>\n",
       "      <td>C</td>\n",
       "    </tr>\n",
       "    <tr>\n",
       "      <th>Heikkinen, Miss. Laina</th>\n",
       "      <td>3</td>\n",
       "      <td>1</td>\n",
       "      <td>3</td>\n",
       "      <td>female</td>\n",
       "      <td>26.0</td>\n",
       "      <td>0</td>\n",
       "      <td>0</td>\n",
       "      <td>STON/O2. 3101282</td>\n",
       "      <td>7.9250</td>\n",
       "      <td>NaN</td>\n",
       "      <td>S</td>\n",
       "    </tr>\n",
       "    <tr>\n",
       "      <th>Futrelle, Mrs. Jacques Heath (Lily May Peel)</th>\n",
       "      <td>4</td>\n",
       "      <td>1</td>\n",
       "      <td>1</td>\n",
       "      <td>female</td>\n",
       "      <td>35.0</td>\n",
       "      <td>1</td>\n",
       "      <td>0</td>\n",
       "      <td>113803</td>\n",
       "      <td>53.1000</td>\n",
       "      <td>C123</td>\n",
       "      <td>S</td>\n",
       "    </tr>\n",
       "    <tr>\n",
       "      <th>Allen, Mr. William Henry</th>\n",
       "      <td>5</td>\n",
       "      <td>0</td>\n",
       "      <td>3</td>\n",
       "      <td>male</td>\n",
       "      <td>35.0</td>\n",
       "      <td>0</td>\n",
       "      <td>0</td>\n",
       "      <td>373450</td>\n",
       "      <td>8.0500</td>\n",
       "      <td>NaN</td>\n",
       "      <td>S</td>\n",
       "    </tr>\n",
       "  </tbody>\n",
       "</table>\n",
       "</div>"
      ],
      "text/plain": [
       "                                                    PassengerId  Survived  \\\n",
       "Name                                                                        \n",
       "Braund, Mr. Owen Harris                                       1         0   \n",
       "Cumings, Mrs. John Bradley (Florence Briggs Tha...            2         1   \n",
       "Heikkinen, Miss. Laina                                        3         1   \n",
       "Futrelle, Mrs. Jacques Heath (Lily May Peel)                  4         1   \n",
       "Allen, Mr. William Henry                                      5         0   \n",
       "\n",
       "                                                    Pclass     Sex   Age  \\\n",
       "Name                                                                       \n",
       "Braund, Mr. Owen Harris                                  3    male  22.0   \n",
       "Cumings, Mrs. John Bradley (Florence Briggs Tha...       1  female  38.0   \n",
       "Heikkinen, Miss. Laina                                   3  female  26.0   \n",
       "Futrelle, Mrs. Jacques Heath (Lily May Peel)             1  female  35.0   \n",
       "Allen, Mr. William Henry                                 3    male  35.0   \n",
       "\n",
       "                                                    SibSp  Parch  \\\n",
       "Name                                                               \n",
       "Braund, Mr. Owen Harris                                 1      0   \n",
       "Cumings, Mrs. John Bradley (Florence Briggs Tha...      1      0   \n",
       "Heikkinen, Miss. Laina                                  0      0   \n",
       "Futrelle, Mrs. Jacques Heath (Lily May Peel)            1      0   \n",
       "Allen, Mr. William Henry                                0      0   \n",
       "\n",
       "                                                              Ticket     Fare  \\\n",
       "Name                                                                            \n",
       "Braund, Mr. Owen Harris                                    A/5 21171   7.2500   \n",
       "Cumings, Mrs. John Bradley (Florence Briggs Tha...          PC 17599  71.2833   \n",
       "Heikkinen, Miss. Laina                              STON/O2. 3101282   7.9250   \n",
       "Futrelle, Mrs. Jacques Heath (Lily May Peel)                  113803  53.1000   \n",
       "Allen, Mr. William Henry                                      373450   8.0500   \n",
       "\n",
       "                                                   Cabin Embarked  \n",
       "Name                                                               \n",
       "Braund, Mr. Owen Harris                              NaN        S  \n",
       "Cumings, Mrs. John Bradley (Florence Briggs Tha...   C85        C  \n",
       "Heikkinen, Miss. Laina                               NaN        S  \n",
       "Futrelle, Mrs. Jacques Heath (Lily May Peel)        C123        S  \n",
       "Allen, Mr. William Henry                             NaN        S  "
      ]
     },
     "execution_count": 59,
     "metadata": {},
     "output_type": "execute_result"
    }
   ],
   "source": [
    "df.head()"
   ]
  },
  {
   "cell_type": "code",
   "execution_count": 73,
   "id": "48e3243d",
   "metadata": {
    "scrolled": false
   },
   "outputs": [
    {
     "data": {
      "text/plain": [
       "PassengerId                   3\n",
       "Survived                      1\n",
       "Pclass                        3\n",
       "Sex                      female\n",
       "Age                        26.0\n",
       "SibSp                         0\n",
       "Parch                         0\n",
       "Ticket         STON/O2. 3101282\n",
       "Fare                      7.925\n",
       "Cabin                       NaN\n",
       "Embarked                      S\n",
       "Name: Heikkinen, Miss. Laina, dtype: object"
      ]
     },
     "execution_count": 73,
     "metadata": {},
     "output_type": "execute_result"
    }
   ],
   "source": [
    "df.loc['Heikkinen, Miss. Laina']"
   ]
  },
  {
   "cell_type": "code",
   "execution_count": 75,
   "id": "ffd0ae85",
   "metadata": {},
   "outputs": [
    {
     "data": {
      "text/plain": [
       "7.925"
      ]
     },
     "execution_count": 75,
     "metadata": {},
     "output_type": "execute_result"
    }
   ],
   "source": [
    "df.loc['Heikkinen, Miss. Laina','Fare']"
   ]
  },
  {
   "cell_type": "code",
   "execution_count": 81,
   "id": "83768f64",
   "metadata": {
    "scrolled": true
   },
   "outputs": [
    {
     "data": {
      "text/html": [
       "<div>\n",
       "<style scoped>\n",
       "    .dataframe tbody tr th:only-of-type {\n",
       "        vertical-align: middle;\n",
       "    }\n",
       "\n",
       "    .dataframe tbody tr th {\n",
       "        vertical-align: top;\n",
       "    }\n",
       "\n",
       "    .dataframe thead th {\n",
       "        text-align: right;\n",
       "    }\n",
       "</style>\n",
       "<table border=\"1\" class=\"dataframe\">\n",
       "  <thead>\n",
       "    <tr style=\"text-align: right;\">\n",
       "      <th></th>\n",
       "      <th>PassengerId</th>\n",
       "      <th>Survived</th>\n",
       "      <th>Pclass</th>\n",
       "      <th>Sex</th>\n",
       "      <th>Age</th>\n",
       "      <th>SibSp</th>\n",
       "      <th>Parch</th>\n",
       "      <th>Ticket</th>\n",
       "      <th>Fare</th>\n",
       "      <th>Cabin</th>\n",
       "      <th>Embarked</th>\n",
       "    </tr>\n",
       "    <tr>\n",
       "      <th>Name</th>\n",
       "      <th></th>\n",
       "      <th></th>\n",
       "      <th></th>\n",
       "      <th></th>\n",
       "      <th></th>\n",
       "      <th></th>\n",
       "      <th></th>\n",
       "      <th></th>\n",
       "      <th></th>\n",
       "      <th></th>\n",
       "      <th></th>\n",
       "    </tr>\n",
       "  </thead>\n",
       "  <tbody>\n",
       "    <tr>\n",
       "      <th>Heikkinen, Miss. Laina</th>\n",
       "      <td>3</td>\n",
       "      <td>1</td>\n",
       "      <td>3</td>\n",
       "      <td>female</td>\n",
       "      <td>26.0</td>\n",
       "      <td>0</td>\n",
       "      <td>0</td>\n",
       "      <td>STON/O2. 3101282</td>\n",
       "      <td>7.925</td>\n",
       "      <td>NaN</td>\n",
       "      <td>S</td>\n",
       "    </tr>\n",
       "    <tr>\n",
       "      <th>Futrelle, Mrs. Jacques Heath (Lily May Peel)</th>\n",
       "      <td>4</td>\n",
       "      <td>1</td>\n",
       "      <td>1</td>\n",
       "      <td>female</td>\n",
       "      <td>35.0</td>\n",
       "      <td>1</td>\n",
       "      <td>0</td>\n",
       "      <td>113803</td>\n",
       "      <td>53.100</td>\n",
       "      <td>C123</td>\n",
       "      <td>S</td>\n",
       "    </tr>\n",
       "    <tr>\n",
       "      <th>Allen, Mr. William Henry</th>\n",
       "      <td>5</td>\n",
       "      <td>0</td>\n",
       "      <td>3</td>\n",
       "      <td>male</td>\n",
       "      <td>35.0</td>\n",
       "      <td>0</td>\n",
       "      <td>0</td>\n",
       "      <td>373450</td>\n",
       "      <td>8.050</td>\n",
       "      <td>NaN</td>\n",
       "      <td>S</td>\n",
       "    </tr>\n",
       "  </tbody>\n",
       "</table>\n",
       "</div>"
      ],
      "text/plain": [
       "                                              PassengerId  Survived  Pclass  \\\n",
       "Name                                                                          \n",
       "Heikkinen, Miss. Laina                                  3         1       3   \n",
       "Futrelle, Mrs. Jacques Heath (Lily May Peel)            4         1       1   \n",
       "Allen, Mr. William Henry                                5         0       3   \n",
       "\n",
       "                                                 Sex   Age  SibSp  Parch  \\\n",
       "Name                                                                       \n",
       "Heikkinen, Miss. Laina                        female  26.0      0      0   \n",
       "Futrelle, Mrs. Jacques Heath (Lily May Peel)  female  35.0      1      0   \n",
       "Allen, Mr. William Henry                        male  35.0      0      0   \n",
       "\n",
       "                                                        Ticket    Fare Cabin  \\\n",
       "Name                                                                           \n",
       "Heikkinen, Miss. Laina                        STON/O2. 3101282   7.925   NaN   \n",
       "Futrelle, Mrs. Jacques Heath (Lily May Peel)            113803  53.100  C123   \n",
       "Allen, Mr. William Henry                                373450   8.050   NaN   \n",
       "\n",
       "                                             Embarked  \n",
       "Name                                                   \n",
       "Heikkinen, Miss. Laina                              S  \n",
       "Futrelle, Mrs. Jacques Heath (Lily May Peel)        S  \n",
       "Allen, Mr. William Henry                            S  "
      ]
     },
     "execution_count": 81,
     "metadata": {},
     "output_type": "execute_result"
    }
   ],
   "source": [
    "df.loc['Heikkinen, Miss. Laina':'Allen, Mr. William Henry',:]"
   ]
  },
  {
   "cell_type": "code",
   "execution_count": 83,
   "id": "a1aead25",
   "metadata": {},
   "outputs": [
    {
     "data": {
      "text/html": [
       "<div>\n",
       "<style scoped>\n",
       "    .dataframe tbody tr th:only-of-type {\n",
       "        vertical-align: middle;\n",
       "    }\n",
       "\n",
       "    .dataframe tbody tr th {\n",
       "        vertical-align: top;\n",
       "    }\n",
       "\n",
       "    .dataframe thead th {\n",
       "        text-align: right;\n",
       "    }\n",
       "</style>\n",
       "<table border=\"1\" class=\"dataframe\">\n",
       "  <thead>\n",
       "    <tr style=\"text-align: right;\">\n",
       "      <th></th>\n",
       "      <th>PassengerId</th>\n",
       "      <th>Survived</th>\n",
       "      <th>Pclass</th>\n",
       "      <th>Sex</th>\n",
       "      <th>Age</th>\n",
       "      <th>SibSp</th>\n",
       "      <th>Parch</th>\n",
       "      <th>Ticket</th>\n",
       "      <th>Fare</th>\n",
       "      <th>Cabin</th>\n",
       "      <th>Embarked</th>\n",
       "    </tr>\n",
       "    <tr>\n",
       "      <th>Name</th>\n",
       "      <th></th>\n",
       "      <th></th>\n",
       "      <th></th>\n",
       "      <th></th>\n",
       "      <th></th>\n",
       "      <th></th>\n",
       "      <th></th>\n",
       "      <th></th>\n",
       "      <th></th>\n",
       "      <th></th>\n",
       "      <th></th>\n",
       "    </tr>\n",
       "  </thead>\n",
       "  <tbody>\n",
       "    <tr>\n",
       "      <th>Braund, Mr. Owen Harris</th>\n",
       "      <td>1</td>\n",
       "      <td>0</td>\n",
       "      <td>3</td>\n",
       "      <td>male</td>\n",
       "      <td>22.0</td>\n",
       "      <td>1</td>\n",
       "      <td>0</td>\n",
       "      <td>A/5 21171</td>\n",
       "      <td>7.2500</td>\n",
       "      <td>NaN</td>\n",
       "      <td>S</td>\n",
       "    </tr>\n",
       "    <tr>\n",
       "      <th>Cumings, Mrs. John Bradley (Florence Briggs Thayer)</th>\n",
       "      <td>2</td>\n",
       "      <td>1</td>\n",
       "      <td>1</td>\n",
       "      <td>female</td>\n",
       "      <td>38.0</td>\n",
       "      <td>1</td>\n",
       "      <td>0</td>\n",
       "      <td>PC 17599</td>\n",
       "      <td>71.2833</td>\n",
       "      <td>C85</td>\n",
       "      <td>C</td>\n",
       "    </tr>\n",
       "    <tr>\n",
       "      <th>Heikkinen, Miss. Laina</th>\n",
       "      <td>3</td>\n",
       "      <td>1</td>\n",
       "      <td>3</td>\n",
       "      <td>female</td>\n",
       "      <td>26.0</td>\n",
       "      <td>0</td>\n",
       "      <td>0</td>\n",
       "      <td>STON/O2. 3101282</td>\n",
       "      <td>10.0000</td>\n",
       "      <td>NaN</td>\n",
       "      <td>S</td>\n",
       "    </tr>\n",
       "    <tr>\n",
       "      <th>Futrelle, Mrs. Jacques Heath (Lily May Peel)</th>\n",
       "      <td>4</td>\n",
       "      <td>1</td>\n",
       "      <td>1</td>\n",
       "      <td>female</td>\n",
       "      <td>35.0</td>\n",
       "      <td>1</td>\n",
       "      <td>0</td>\n",
       "      <td>113803</td>\n",
       "      <td>53.1000</td>\n",
       "      <td>C123</td>\n",
       "      <td>S</td>\n",
       "    </tr>\n",
       "    <tr>\n",
       "      <th>Allen, Mr. William Henry</th>\n",
       "      <td>5</td>\n",
       "      <td>0</td>\n",
       "      <td>3</td>\n",
       "      <td>male</td>\n",
       "      <td>35.0</td>\n",
       "      <td>0</td>\n",
       "      <td>0</td>\n",
       "      <td>373450</td>\n",
       "      <td>8.0500</td>\n",
       "      <td>NaN</td>\n",
       "      <td>S</td>\n",
       "    </tr>\n",
       "  </tbody>\n",
       "</table>\n",
       "</div>"
      ],
      "text/plain": [
       "                                                    PassengerId  Survived  \\\n",
       "Name                                                                        \n",
       "Braund, Mr. Owen Harris                                       1         0   \n",
       "Cumings, Mrs. John Bradley (Florence Briggs Tha...            2         1   \n",
       "Heikkinen, Miss. Laina                                        3         1   \n",
       "Futrelle, Mrs. Jacques Heath (Lily May Peel)                  4         1   \n",
       "Allen, Mr. William Henry                                      5         0   \n",
       "\n",
       "                                                    Pclass     Sex   Age  \\\n",
       "Name                                                                       \n",
       "Braund, Mr. Owen Harris                                  3    male  22.0   \n",
       "Cumings, Mrs. John Bradley (Florence Briggs Tha...       1  female  38.0   \n",
       "Heikkinen, Miss. Laina                                   3  female  26.0   \n",
       "Futrelle, Mrs. Jacques Heath (Lily May Peel)             1  female  35.0   \n",
       "Allen, Mr. William Henry                                 3    male  35.0   \n",
       "\n",
       "                                                    SibSp  Parch  \\\n",
       "Name                                                               \n",
       "Braund, Mr. Owen Harris                                 1      0   \n",
       "Cumings, Mrs. John Bradley (Florence Briggs Tha...      1      0   \n",
       "Heikkinen, Miss. Laina                                  0      0   \n",
       "Futrelle, Mrs. Jacques Heath (Lily May Peel)            1      0   \n",
       "Allen, Mr. William Henry                                0      0   \n",
       "\n",
       "                                                              Ticket     Fare  \\\n",
       "Name                                                                            \n",
       "Braund, Mr. Owen Harris                                    A/5 21171   7.2500   \n",
       "Cumings, Mrs. John Bradley (Florence Briggs Tha...          PC 17599  71.2833   \n",
       "Heikkinen, Miss. Laina                              STON/O2. 3101282  10.0000   \n",
       "Futrelle, Mrs. Jacques Heath (Lily May Peel)                  113803  53.1000   \n",
       "Allen, Mr. William Henry                                      373450   8.0500   \n",
       "\n",
       "                                                   Cabin Embarked  \n",
       "Name                                                               \n",
       "Braund, Mr. Owen Harris                              NaN        S  \n",
       "Cumings, Mrs. John Bradley (Florence Briggs Tha...   C85        C  \n",
       "Heikkinen, Miss. Laina                               NaN        S  \n",
       "Futrelle, Mrs. Jacques Heath (Lily May Peel)        C123        S  \n",
       "Allen, Mr. William Henry                             NaN        S  "
      ]
     },
     "execution_count": 83,
     "metadata": {},
     "output_type": "execute_result"
    }
   ],
   "source": [
    "df.loc['Heikkinen, Miss. Laina','Fare']=10\n",
    "df.head()"
   ]
  },
  {
   "cell_type": "code",
   "execution_count": null,
   "id": "66a419cf",
   "metadata": {},
   "outputs": [],
   "source": []
  },
  {
   "cell_type": "markdown",
   "id": "3af6db11",
   "metadata": {},
   "source": [
    "#### 用bool类型索引"
   ]
  },
  {
   "cell_type": "code",
   "execution_count": 68,
   "id": "8ff9d1dc",
   "metadata": {
    "scrolled": false
   },
   "outputs": [
    {
     "data": {
      "text/plain": [
       "Name\n",
       "McCarthy, Mr. Timothy J                                54.0\n",
       "Bonnell, Miss. Elizabeth                               58.0\n",
       "Hewlett, Mrs. (Mary D Kingcome)                        55.0\n",
       "Wheadon, Mr. Edward H                                  66.0\n",
       "Holverson, Mr. Alexander Oskar                         42.0\n",
       "                                                       ... \n",
       "Swift, Mrs. Frederick Joel (Margaret Welles Barron)    48.0\n",
       "Bystrom, Mrs. (Karolina)                               42.0\n",
       "Beckwith, Mrs. Richard Leonard (Sallie Monypeny)       47.0\n",
       "Vander Cruyssen, Mr. Victor                            47.0\n",
       "Potter, Mrs. Thomas Jr (Lily Alexenia Wilson)          56.0\n",
       "Name: Age, Length: 150, dtype: float64"
      ]
     },
     "execution_count": 68,
     "metadata": {},
     "output_type": "execute_result"
    }
   ],
   "source": [
    "df[df['Age'] > 40]['Age']"
   ]
  },
  {
   "cell_type": "code",
   "execution_count": 89,
   "id": "d0d4d036",
   "metadata": {},
   "outputs": [],
   "source": [
    "a = df['Sex'] == 'male'"
   ]
  },
  {
   "cell_type": "code",
   "execution_count": 95,
   "id": "7e358e5f",
   "metadata": {
    "scrolled": true
   },
   "outputs": [
    {
     "data": {
      "text/plain": [
       "30.72664459161148"
      ]
     },
     "execution_count": 95,
     "metadata": {},
     "output_type": "execute_result"
    }
   ],
   "source": [
    "df.loc[a,'Age'].mean()"
   ]
  },
  {
   "cell_type": "code",
   "execution_count": 96,
   "id": "86dfcc53",
   "metadata": {},
   "outputs": [
    {
     "data": {
      "text/plain": [
       "5"
      ]
     },
     "execution_count": 96,
     "metadata": {},
     "output_type": "execute_result"
    }
   ],
   "source": [
    "(df['Age'] > 70).sum()"
   ]
  },
  {
   "cell_type": "code",
   "execution_count": null,
   "id": "4f32009e",
   "metadata": {},
   "outputs": [],
   "source": []
  }
 ],
 "metadata": {
  "kernelspec": {
   "display_name": "Python 3 (ipykernel)",
   "language": "python",
   "name": "python3"
  },
  "language_info": {
   "codemirror_mode": {
    "name": "ipython",
    "version": 3
   },
   "file_extension": ".py",
   "mimetype": "text/x-python",
   "name": "python",
   "nbconvert_exporter": "python",
   "pygments_lexer": "ipython3",
   "version": "3.9.12"
  }
 },
 "nbformat": 4,
 "nbformat_minor": 5
}
