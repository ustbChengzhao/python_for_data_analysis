{
 "cells": [
  {
   "cell_type": "code",
   "execution_count": 1,
   "id": "fe6fe959",
   "metadata": {},
   "outputs": [],
   "source": [
    "import pandas as pd"
   ]
  },
  {
   "cell_type": "markdown",
   "id": "7f4c09ab",
   "metadata": {},
   "source": [
    "#### 查看打印最大行数"
   ]
  },
  {
   "cell_type": "code",
   "execution_count": 2,
   "id": "c5cd74d0",
   "metadata": {
    "scrolled": false
   },
   "outputs": [
    {
     "data": {
      "text/plain": [
       "60"
      ]
     },
     "execution_count": 2,
     "metadata": {},
     "output_type": "execute_result"
    }
   ],
   "source": [
    "pd.get_option('display.max_rows')"
   ]
  },
  {
   "cell_type": "markdown",
   "id": "d22c54b4",
   "metadata": {},
   "source": [
    "#### 设置打印最大行数"
   ]
  },
  {
   "cell_type": "code",
   "execution_count": 6,
   "id": "61370ec1",
   "metadata": {},
   "outputs": [],
   "source": [
    "pd.set_option('display.max_rows',6)"
   ]
  },
  {
   "cell_type": "code",
   "execution_count": 8,
   "id": "ac590893",
   "metadata": {
    "scrolled": true
   },
   "outputs": [
    {
     "data": {
      "text/plain": [
       "0      0\n",
       "1      1\n",
       "2      2\n",
       "      ..\n",
       "97    97\n",
       "98    98\n",
       "99    99\n",
       "Length: 100, dtype: int64"
      ]
     },
     "execution_count": 8,
     "metadata": {},
     "output_type": "execute_result"
    }
   ],
   "source": [
    "pd.Series(index  = range(100),data = range(100)) "
   ]
  },
  {
   "cell_type": "markdown",
   "id": "1c291d07",
   "metadata": {},
   "source": [
    "#### 查看打印最大列数"
   ]
  },
  {
   "cell_type": "code",
   "execution_count": 9,
   "id": "7eb61f55",
   "metadata": {
    "scrolled": true
   },
   "outputs": [
    {
     "data": {
      "text/plain": [
       "20"
      ]
     },
     "execution_count": 9,
     "metadata": {},
     "output_type": "execute_result"
    }
   ],
   "source": [
    "pd.get_option('display.max_columns')"
   ]
  },
  {
   "cell_type": "markdown",
   "id": "60384e18",
   "metadata": {},
   "source": [
    "#### 设置打印最大列数"
   ]
  },
  {
   "cell_type": "code",
   "execution_count": 10,
   "id": "5d67ca74",
   "metadata": {},
   "outputs": [],
   "source": [
    "pd.set_option('display.max_columns',10)"
   ]
  },
  {
   "cell_type": "markdown",
   "id": "87fc28ea",
   "metadata": {},
   "source": [
    "#### 查看每列最大的宽度"
   ]
  },
  {
   "cell_type": "code",
   "execution_count": 11,
   "id": "688334e1",
   "metadata": {
    "scrolled": true
   },
   "outputs": [
    {
     "data": {
      "text/plain": [
       "50"
      ]
     },
     "execution_count": 11,
     "metadata": {},
     "output_type": "execute_result"
    }
   ],
   "source": [
    "pd.get_option('display.max_colwidth')"
   ]
  },
  {
   "cell_type": "code",
   "execution_count": 12,
   "id": "b0bc4b8d",
   "metadata": {
    "scrolled": true
   },
   "outputs": [
    {
     "data": {
      "text/plain": [
       "6"
      ]
     },
     "execution_count": 12,
     "metadata": {},
     "output_type": "execute_result"
    }
   ],
   "source": [
    "pd.get_option('display.precision')"
   ]
  },
  {
   "cell_type": "markdown",
   "id": "29b240bd",
   "metadata": {},
   "source": [
    "#### 设置最大打印精度"
   ]
  },
  {
   "cell_type": "code",
   "execution_count": 14,
   "id": "8682a046",
   "metadata": {},
   "outputs": [],
   "source": [
    "pd.set_option('display.precision',10)"
   ]
  },
  {
   "cell_type": "code",
   "execution_count": 15,
   "id": "46bfe818",
   "metadata": {},
   "outputs": [
    {
     "data": {
      "text/plain": [
       "A    0.12334567\n",
       "dtype: float64"
      ]
     },
     "execution_count": 15,
     "metadata": {},
     "output_type": "execute_result"
    }
   ],
   "source": [
    "pd.Series(index = ['A'],data = 0.12334567)"
   ]
  },
  {
   "cell_type": "code",
   "execution_count": null,
   "id": "2c08b361",
   "metadata": {},
   "outputs": [],
   "source": []
  }
 ],
 "metadata": {
  "kernelspec": {
   "display_name": "Python 3 (ipykernel)",
   "language": "python",
   "name": "python3"
  },
  "language_info": {
   "codemirror_mode": {
    "name": "ipython",
    "version": 3
   },
   "file_extension": ".py",
   "mimetype": "text/x-python",
   "name": "python",
   "nbconvert_exporter": "python",
   "pygments_lexer": "ipython3",
   "version": "3.9.12"
  }
 },
 "nbformat": 4,
 "nbformat_minor": 5
}
