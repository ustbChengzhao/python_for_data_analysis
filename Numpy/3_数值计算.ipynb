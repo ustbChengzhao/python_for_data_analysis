{
 "cells": [
  {
   "cell_type": "markdown",
   "id": "b9659e61",
   "metadata": {},
   "source": [
    "# array数组的数值计算"
   ]
  },
  {
   "cell_type": "code",
   "execution_count": 1,
   "id": "00f184ac",
   "metadata": {},
   "outputs": [],
   "source": [
    "import numpy as np"
   ]
  },
  {
   "cell_type": "markdown",
   "id": "cb7ade0e-a13a-45ce-90cf-4b0cb4124134",
   "metadata": {
    "tags": []
   },
   "source": [
    "### 1、求和（numpy模块函数/array数组方法）"
   ]
  },
  {
   "cell_type": "code",
   "execution_count": 2,
   "id": "d8d7ea75",
   "metadata": {},
   "outputs": [
    {
     "data": {
      "text/plain": [
       "array([[1, 2, 3],\n",
       "       [4, 5, 6]])"
      ]
     },
     "execution_count": 2,
     "metadata": {},
     "output_type": "execute_result"
    }
   ],
   "source": [
    "tang_array = np.array([[1,2,3],[4,5,6]])\n",
    "tang_array"
   ]
  },
  {
   "cell_type": "code",
   "execution_count": 3,
   "id": "1bcf52a0",
   "metadata": {
    "scrolled": true
   },
   "outputs": [
    {
     "data": {
      "text/plain": [
       "21"
      ]
     },
     "execution_count": 3,
     "metadata": {},
     "output_type": "execute_result"
    }
   ],
   "source": [
    "np.sum(tang_array)"
   ]
  },
  {
   "cell_type": "markdown",
   "id": "5e4a3db9",
   "metadata": {
    "tags": []
   },
   "source": [
    "#### 指定要进行的操作是沿着什么轴,0是沿纵轴，1是沿横轴"
   ]
  },
  {
   "cell_type": "code",
   "execution_count": 4,
   "id": "662dea6d",
   "metadata": {},
   "outputs": [
    {
     "data": {
      "text/plain": [
       "array([5, 7, 9])"
      ]
     },
     "execution_count": 4,
     "metadata": {},
     "output_type": "execute_result"
    }
   ],
   "source": [
    "np.sum(tang_array, axis = 0)"
   ]
  },
  {
   "cell_type": "code",
   "execution_count": 5,
   "id": "6c2337ce",
   "metadata": {},
   "outputs": [
    {
     "data": {
      "text/plain": [
       "2"
      ]
     },
     "execution_count": 5,
     "metadata": {},
     "output_type": "execute_result"
    }
   ],
   "source": [
    "tang_array.ndim"
   ]
  },
  {
   "cell_type": "code",
   "execution_count": 6,
   "id": "f5dd7d91",
   "metadata": {},
   "outputs": [
    {
     "data": {
      "text/plain": [
       "array([ 6, 15])"
      ]
     },
     "execution_count": 6,
     "metadata": {},
     "output_type": "execute_result"
    }
   ],
   "source": [
    "np.sum(tang_array, axis = 1)"
   ]
  },
  {
   "cell_type": "code",
   "execution_count": 7,
   "id": "6fa4297d",
   "metadata": {},
   "outputs": [
    {
     "data": {
      "text/plain": [
       "array([ 6, 15])"
      ]
     },
     "execution_count": 7,
     "metadata": {},
     "output_type": "execute_result"
    }
   ],
   "source": [
    "np.sum(tang_array, axis = -1)"
   ]
  },
  {
   "cell_type": "code",
   "execution_count": 8,
   "id": "cfdd139b",
   "metadata": {},
   "outputs": [
    {
     "data": {
      "text/plain": [
       "21"
      ]
     },
     "execution_count": 8,
     "metadata": {},
     "output_type": "execute_result"
    }
   ],
   "source": [
    "tang_array.sum()"
   ]
  },
  {
   "cell_type": "code",
   "execution_count": 9,
   "id": "d42c16f9",
   "metadata": {},
   "outputs": [
    {
     "data": {
      "text/plain": [
       "array([ 6, 15])"
      ]
     },
     "execution_count": 9,
     "metadata": {},
     "output_type": "execute_result"
    }
   ],
   "source": [
    "tang_array.sum(axis = 1)"
   ]
  },
  {
   "cell_type": "code",
   "execution_count": 10,
   "id": "30d23e1d",
   "metadata": {},
   "outputs": [
    {
     "data": {
      "text/plain": [
       "array([5, 7, 9])"
      ]
     },
     "execution_count": 10,
     "metadata": {},
     "output_type": "execute_result"
    }
   ],
   "source": [
    "tang_array.sum(axis = 0)"
   ]
  },
  {
   "cell_type": "markdown",
   "id": "cff9f036-061f-49ff-b859-b3067bd0bc30",
   "metadata": {},
   "source": [
    "### 2、求积"
   ]
  },
  {
   "cell_type": "code",
   "execution_count": 11,
   "id": "068df15c",
   "metadata": {},
   "outputs": [
    {
     "data": {
      "text/plain": [
       "720"
      ]
     },
     "execution_count": 11,
     "metadata": {},
     "output_type": "execute_result"
    }
   ],
   "source": [
    "tang_array.prod()"
   ]
  },
  {
   "cell_type": "code",
   "execution_count": 12,
   "id": "bd2aa58d",
   "metadata": {},
   "outputs": [
    {
     "data": {
      "text/plain": [
       "array([ 4, 10, 18])"
      ]
     },
     "execution_count": 12,
     "metadata": {},
     "output_type": "execute_result"
    }
   ],
   "source": [
    "tang_array.prod(axis = 0)"
   ]
  },
  {
   "cell_type": "markdown",
   "id": "d6664bf9-bfda-4848-ae1a-89a8d08fd16d",
   "metadata": {},
   "source": [
    "### 3、求最大值最小值（索引）"
   ]
  },
  {
   "cell_type": "code",
   "execution_count": 13,
   "id": "0d8a9a92",
   "metadata": {},
   "outputs": [
    {
     "data": {
      "text/plain": [
       "1"
      ]
     },
     "execution_count": 13,
     "metadata": {},
     "output_type": "execute_result"
    }
   ],
   "source": [
    "tang_array.min()"
   ]
  },
  {
   "cell_type": "code",
   "execution_count": 14,
   "id": "b288f07b",
   "metadata": {},
   "outputs": [
    {
     "data": {
      "text/plain": [
       "6"
      ]
     },
     "execution_count": 14,
     "metadata": {},
     "output_type": "execute_result"
    }
   ],
   "source": [
    "tang_array.max()"
   ]
  },
  {
   "cell_type": "code",
   "execution_count": 15,
   "id": "1c3af246",
   "metadata": {},
   "outputs": [
    {
     "data": {
      "text/plain": [
       "array([4, 5, 6])"
      ]
     },
     "execution_count": 15,
     "metadata": {},
     "output_type": "execute_result"
    }
   ],
   "source": [
    "tang_array.max(axis = 0)"
   ]
  },
  {
   "cell_type": "code",
   "execution_count": 16,
   "id": "7257eec0",
   "metadata": {},
   "outputs": [
    {
     "data": {
      "text/plain": [
       "array([3, 6])"
      ]
     },
     "execution_count": 16,
     "metadata": {},
     "output_type": "execute_result"
    }
   ],
   "source": [
    "tang_array.max(1)"
   ]
  },
  {
   "cell_type": "code",
   "execution_count": 17,
   "id": "3dd61c9d",
   "metadata": {},
   "outputs": [
    {
     "data": {
      "text/plain": [
       "0"
      ]
     },
     "execution_count": 17,
     "metadata": {},
     "output_type": "execute_result"
    }
   ],
   "source": [
    "tang_array.argmin()"
   ]
  },
  {
   "cell_type": "code",
   "execution_count": 18,
   "id": "a117ad8a",
   "metadata": {},
   "outputs": [
    {
     "data": {
      "text/plain": [
       "array([0, 0, 0], dtype=int64)"
      ]
     },
     "execution_count": 18,
     "metadata": {},
     "output_type": "execute_result"
    }
   ],
   "source": [
    "tang_array.argmin(axis = 0)"
   ]
  },
  {
   "cell_type": "code",
   "execution_count": 19,
   "id": "06214779",
   "metadata": {},
   "outputs": [
    {
     "data": {
      "text/plain": [
       "array([1, 1, 1], dtype=int64)"
      ]
     },
     "execution_count": 19,
     "metadata": {},
     "output_type": "execute_result"
    }
   ],
   "source": [
    "tang_array.argmax(axis = 0)"
   ]
  },
  {
   "cell_type": "markdown",
   "id": "053ab6b7-14f6-44ea-9232-33f0440b7e86",
   "metadata": {},
   "source": [
    "### 4、平均值"
   ]
  },
  {
   "cell_type": "code",
   "execution_count": 20,
   "id": "85222498",
   "metadata": {},
   "outputs": [
    {
     "data": {
      "text/plain": [
       "3.5"
      ]
     },
     "execution_count": 20,
     "metadata": {},
     "output_type": "execute_result"
    }
   ],
   "source": [
    "tang_array.mean()"
   ]
  },
  {
   "cell_type": "markdown",
   "id": "9a23fd3c",
   "metadata": {},
   "source": [
    "### 5、标准差的计算"
   ]
  },
  {
   "cell_type": "code",
   "execution_count": 21,
   "id": "657d33d3",
   "metadata": {},
   "outputs": [
    {
     "data": {
      "text/plain": [
       "1.707825127659933"
      ]
     },
     "execution_count": 21,
     "metadata": {},
     "output_type": "execute_result"
    }
   ],
   "source": [
    "tang_array.std()"
   ]
  },
  {
   "cell_type": "markdown",
   "id": "6d7ab1a9",
   "metadata": {},
   "source": [
    "### 6、方差的计算"
   ]
  },
  {
   "cell_type": "code",
   "execution_count": 22,
   "id": "87583b27",
   "metadata": {},
   "outputs": [
    {
     "data": {
      "text/plain": [
       "array([1.5, 1.5, 1.5])"
      ]
     },
     "execution_count": 22,
     "metadata": {},
     "output_type": "execute_result"
    }
   ],
   "source": [
    "tang_array.std(axis = 0)"
   ]
  },
  {
   "cell_type": "markdown",
   "id": "8aa930ce",
   "metadata": {},
   "source": [
    "### 7、做限制,小于2的值都变成2，大于3的值都变成3"
   ]
  },
  {
   "cell_type": "code",
   "execution_count": 23,
   "id": "06b06c5d",
   "metadata": {},
   "outputs": [
    {
     "data": {
      "text/plain": [
       "array([[2, 2, 3],\n",
       "       [3, 3, 3]])"
      ]
     },
     "execution_count": 23,
     "metadata": {},
     "output_type": "execute_result"
    }
   ],
   "source": [
    "tang_array.clip(2,3)"
   ]
  },
  {
   "cell_type": "markdown",
   "id": "e0d44d2f",
   "metadata": {},
   "source": [
    "### 8、四舍五入,decimals是四舍五入的精度"
   ]
  },
  {
   "cell_type": "code",
   "execution_count": 24,
   "id": "7c4f06ed",
   "metadata": {},
   "outputs": [],
   "source": [
    "tang_array = np.array([1,2,4.3,4.5])"
   ]
  },
  {
   "cell_type": "code",
   "execution_count": 25,
   "id": "8664f8e8",
   "metadata": {},
   "outputs": [
    {
     "data": {
      "text/plain": [
       "array([1., 2., 4., 4.])"
      ]
     },
     "execution_count": 25,
     "metadata": {},
     "output_type": "execute_result"
    }
   ],
   "source": [
    "tang_array.round(decimals = 0)"
   ]
  }
 ],
 "metadata": {
  "kernelspec": {
   "display_name": "Python 3 (ipykernel)",
   "language": "python",
   "name": "python3"
  },
  "language_info": {
   "codemirror_mode": {
    "name": "ipython",
    "version": 3
   },
   "file_extension": ".py",
   "mimetype": "text/x-python",
   "name": "python",
   "nbconvert_exporter": "python",
   "pygments_lexer": "ipython3",
   "version": "3.9.12"
  }
 },
 "nbformat": 4,
 "nbformat_minor": 5
}
