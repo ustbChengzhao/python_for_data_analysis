{
 "cells": [
  {
   "cell_type": "code",
   "execution_count": 1,
   "id": "caeda751",
   "metadata": {},
   "outputs": [],
   "source": [
    "import datetime"
   ]
  },
  {
   "cell_type": "code",
   "execution_count": 4,
   "id": "013c2c9d",
   "metadata": {},
   "outputs": [],
   "source": [
    "dt = datetime.datetime(year = 2022, month = 8,day = 7,hour = 13, minute = 41)"
   ]
  },
  {
   "cell_type": "code",
   "execution_count": 6,
   "id": "9f83914c",
   "metadata": {},
   "outputs": [
    {
     "name": "stdout",
     "output_type": "stream",
     "text": [
      "2022-08-07 13:41:00\n"
     ]
    }
   ],
   "source": [
    "print(dt)"
   ]
  },
  {
   "cell_type": "code",
   "execution_count": 7,
   "id": "6eb9f915",
   "metadata": {},
   "outputs": [],
   "source": [
    "import pandas as pd"
   ]
  },
  {
   "cell_type": "code",
   "execution_count": 12,
   "id": "728882cf",
   "metadata": {},
   "outputs": [
    {
     "data": {
      "text/plain": [
       "Timestamp('2022-08-07 00:00:00')"
      ]
     },
     "execution_count": 12,
     "metadata": {},
     "output_type": "execute_result"
    }
   ],
   "source": [
    "ts = pd.Timestamp('2022-8-7')\n",
    "ts"
   ]
  },
  {
   "cell_type": "code",
   "execution_count": 13,
   "id": "a65e32ab",
   "metadata": {},
   "outputs": [
    {
     "data": {
      "text/plain": [
       "8"
      ]
     },
     "execution_count": 13,
     "metadata": {},
     "output_type": "execute_result"
    }
   ],
   "source": [
    "ts.month"
   ]
  },
  {
   "cell_type": "code",
   "execution_count": 14,
   "id": "bb5aac65",
   "metadata": {},
   "outputs": [
    {
     "data": {
      "text/plain": [
       "7"
      ]
     },
     "execution_count": 14,
     "metadata": {},
     "output_type": "execute_result"
    }
   ],
   "source": [
    "ts.day"
   ]
  },
  {
   "cell_type": "code",
   "execution_count": 18,
   "id": "b0a1bcde",
   "metadata": {
    "scrolled": true
   },
   "outputs": [
    {
     "data": {
      "text/plain": [
       "Timestamp('2022-08-12 00:00:00')"
      ]
     },
     "execution_count": 18,
     "metadata": {},
     "output_type": "execute_result"
    }
   ],
   "source": [
    "ts + pd.Timedelta('5 days')"
   ]
  },
  {
   "cell_type": "code",
   "execution_count": 19,
   "id": "c15a7252",
   "metadata": {},
   "outputs": [
    {
     "data": {
      "text/plain": [
       "Timestamp('2022-10-20 00:00:00')"
      ]
     },
     "execution_count": 19,
     "metadata": {},
     "output_type": "execute_result"
    }
   ],
   "source": [
    "pd.to_datetime('2022-10-20')"
   ]
  },
  {
   "cell_type": "code",
   "execution_count": 20,
   "id": "2ecad62f",
   "metadata": {},
   "outputs": [
    {
     "data": {
      "text/plain": [
       "0    2022-10-20 00:00:00\n",
       "1    2022-10-21 00:00:00\n",
       "2    2022-10-23 00:00:00\n",
       "dtype: object"
      ]
     },
     "execution_count": 20,
     "metadata": {},
     "output_type": "execute_result"
    }
   ],
   "source": [
    "s = pd.Series(['2022-10-20 00:00:00','2022-10-21 00:00:00','2022-10-23 00:00:00'])\n",
    "s"
   ]
  },
  {
   "cell_type": "code",
   "execution_count": 21,
   "id": "571f7bd9",
   "metadata": {},
   "outputs": [
    {
     "data": {
      "text/plain": [
       "0   2022-10-20\n",
       "1   2022-10-21\n",
       "2   2022-10-23\n",
       "dtype: datetime64[ns]"
      ]
     },
     "execution_count": 21,
     "metadata": {},
     "output_type": "execute_result"
    }
   ],
   "source": [
    "ts = pd.to_datetime(s)\n",
    "ts"
   ]
  },
  {
   "cell_type": "code",
   "execution_count": 22,
   "id": "860509f0",
   "metadata": {},
   "outputs": [
    {
     "data": {
      "text/plain": [
       "0    20\n",
       "1    21\n",
       "2    23\n",
       "dtype: int64"
      ]
     },
     "execution_count": 22,
     "metadata": {},
     "output_type": "execute_result"
    }
   ],
   "source": [
    "ts.dt.day"
   ]
  },
  {
   "cell_type": "code",
   "execution_count": 23,
   "id": "fce204be",
   "metadata": {},
   "outputs": [
    {
     "data": {
      "text/plain": [
       "0    3\n",
       "1    4\n",
       "2    6\n",
       "dtype: int64"
      ]
     },
     "execution_count": 23,
     "metadata": {},
     "output_type": "execute_result"
    }
   ],
   "source": [
    "ts.dt.weekday"
   ]
  },
  {
   "cell_type": "code",
   "execution_count": 27,
   "id": "10742b9d",
   "metadata": {},
   "outputs": [
    {
     "data": {
      "text/plain": [
       "0   2022-10-20\n",
       "1   2022-10-21\n",
       "2   2022-10-22\n",
       "3   2022-10-23\n",
       "4   2022-10-24\n",
       "5   2022-10-25\n",
       "6   2022-10-26\n",
       "7   2022-10-27\n",
       "8   2022-10-28\n",
       "9   2022-10-29\n",
       "dtype: datetime64[ns]"
      ]
     },
     "execution_count": 27,
     "metadata": {},
     "output_type": "execute_result"
    }
   ],
   "source": [
    "pd.Series(pd.date_range(start='2022-10-20 00:00:00', periods=10, freq = '1D'))"
   ]
  },
  {
   "cell_type": "code",
   "execution_count": null,
   "id": "367f6c15",
   "metadata": {},
   "outputs": [],
   "source": []
  }
 ],
 "metadata": {
  "kernelspec": {
   "display_name": "Python 3 (ipykernel)",
   "language": "python",
   "name": "python3"
  },
  "language_info": {
   "codemirror_mode": {
    "name": "ipython",
    "version": 3
   },
   "file_extension": ".py",
   "mimetype": "text/x-python",
   "name": "python",
   "nbconvert_exporter": "python",
   "pygments_lexer": "ipython3",
   "version": "3.9.12"
  }
 },
 "nbformat": 4,
 "nbformat_minor": 5
}
