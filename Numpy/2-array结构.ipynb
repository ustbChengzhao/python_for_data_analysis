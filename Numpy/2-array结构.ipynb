{
 "cells": [
  {
   "cell_type": "markdown",
   "id": "202cd34e-fdd4-4f5b-ac1d-ae22293e9036",
   "metadata": {},
   "source": [
    "# array结构"
   ]
  },
  {
   "cell_type": "code",
   "execution_count": 1,
   "id": "4015acaf",
   "metadata": {},
   "outputs": [],
   "source": [
    "import numpy as np"
   ]
  },
  {
   "cell_type": "markdown",
   "id": "5976d692",
   "metadata": {
    "tags": []
   },
   "source": [
    "#### 对于ndarray结构来说，里面所有的元素必须是同一类型的，如果不是的话，会自动向下进行转换"
   ]
  },
  {
   "cell_type": "code",
   "execution_count": 2,
   "id": "b914145b",
   "metadata": {},
   "outputs": [],
   "source": [
    "tang_list= [1,2,3,4,5.0]\n",
    "tang_array = np.array(tang_list)"
   ]
  },
  {
   "cell_type": "code",
   "execution_count": 3,
   "id": "1ccea3a5",
   "metadata": {},
   "outputs": [
    {
     "data": {
      "text/plain": [
       "array([1., 2., 3., 4., 5.])"
      ]
     },
     "execution_count": 3,
     "metadata": {},
     "output_type": "execute_result"
    }
   ],
   "source": [
    "tang_array"
   ]
  },
  {
   "cell_type": "markdown",
   "id": "d725449a",
   "metadata": {},
   "source": [
    "### 基本属性操作"
   ]
  },
  {
   "cell_type": "markdown",
   "id": "0f1ca316-8d82-49be-995c-6927db0f96e6",
   "metadata": {
    "tags": []
   },
   "source": [
    "#### 1、元素类型"
   ]
  },
  {
   "cell_type": "code",
   "execution_count": 4,
   "id": "241b727a",
   "metadata": {},
   "outputs": [
    {
     "data": {
      "text/plain": [
       "dtype('float64')"
      ]
     },
     "execution_count": 4,
     "metadata": {},
     "output_type": "execute_result"
    }
   ],
   "source": [
    "tang_array.dtype               #必须是相同类型，不同类型会自动向下转换"
   ]
  },
  {
   "cell_type": "markdown",
   "id": "67b10e69-372e-4fae-bc29-345e7791ea84",
   "metadata": {},
   "source": [
    "#### 2、元素占内存大小"
   ]
  },
  {
   "cell_type": "code",
   "execution_count": 5,
   "id": "30180e13",
   "metadata": {},
   "outputs": [
    {
     "data": {
      "text/plain": [
       "8"
      ]
     },
     "execution_count": 5,
     "metadata": {},
     "output_type": "execute_result"
    }
   ],
   "source": [
    "tang_array.itemsize "
   ]
  },
  {
   "cell_type": "markdown",
   "id": "a06b6758-b22f-45ed-803d-d4a10cf9122f",
   "metadata": {},
   "source": [
    "#### 3、数组形状"
   ]
  },
  {
   "cell_type": "code",
   "execution_count": 6,
   "id": "0e252a19",
   "metadata": {},
   "outputs": [
    {
     "data": {
      "text/plain": [
       "(5,)"
      ]
     },
     "execution_count": 6,
     "metadata": {},
     "output_type": "execute_result"
    }
   ],
   "source": [
    "tang_array.shape"
   ]
  },
  {
   "cell_type": "markdown",
   "id": "4d1d5c72-3554-473e-8592-b8fccd49d9d3",
   "metadata": {},
   "source": [
    "#### 4、数组元素个数（数组属性/numpy方法）"
   ]
  },
  {
   "cell_type": "code",
   "execution_count": 7,
   "id": "a9b9af6b",
   "metadata": {},
   "outputs": [
    {
     "data": {
      "text/plain": [
       "5"
      ]
     },
     "execution_count": 7,
     "metadata": {},
     "output_type": "execute_result"
    }
   ],
   "source": [
    "tang_array.size"
   ]
  },
  {
   "cell_type": "code",
   "execution_count": 8,
   "id": "eb0656d0",
   "metadata": {},
   "outputs": [
    {
     "data": {
      "text/plain": [
       "5"
      ]
     },
     "execution_count": 8,
     "metadata": {},
     "output_type": "execute_result"
    }
   ],
   "source": [
    "np.size(tang_array)"
   ]
  },
  {
   "cell_type": "code",
   "execution_count": 9,
   "id": "a6696a52",
   "metadata": {},
   "outputs": [],
   "source": [
    "from numpy import size"
   ]
  },
  {
   "cell_type": "code",
   "execution_count": 10,
   "id": "9f13e66d",
   "metadata": {
    "scrolled": true
   },
   "outputs": [
    {
     "data": {
      "text/plain": [
       "5"
      ]
     },
     "execution_count": 10,
     "metadata": {},
     "output_type": "execute_result"
    }
   ],
   "source": [
    "size(tang_array)"
   ]
  },
  {
   "cell_type": "markdown",
   "id": "ad205282-4455-4727-84b4-3233112c06de",
   "metadata": {},
   "source": [
    "#### 5、数组的维数"
   ]
  },
  {
   "cell_type": "code",
   "execution_count": 11,
   "id": "3785b1cf",
   "metadata": {},
   "outputs": [
    {
     "data": {
      "text/plain": [
       "1"
      ]
     },
     "execution_count": 11,
     "metadata": {},
     "output_type": "execute_result"
    }
   ],
   "source": [
    "tang_array.ndim"
   ]
  },
  {
   "cell_type": "code",
   "execution_count": 12,
   "id": "85eee879",
   "metadata": {},
   "outputs": [
    {
     "data": {
      "text/plain": [
       "array([1., 2., 3., 4., 5.])"
      ]
     },
     "execution_count": 12,
     "metadata": {},
     "output_type": "execute_result"
    }
   ],
   "source": [
    "tang_array"
   ]
  },
  {
   "cell_type": "markdown",
   "id": "2a1fa07a-cc4a-4c91-9eac-b51862d45aae",
   "metadata": {},
   "source": [
    "#### 6、用0填充数组"
   ]
  },
  {
   "cell_type": "code",
   "execution_count": 13,
   "id": "7afcce1e",
   "metadata": {},
   "outputs": [],
   "source": [
    "tang_array.fill(0)"
   ]
  },
  {
   "cell_type": "code",
   "execution_count": 14,
   "id": "ae387b76",
   "metadata": {},
   "outputs": [
    {
     "data": {
      "text/plain": [
       "array([0., 0., 0., 0., 0.])"
      ]
     },
     "execution_count": 14,
     "metadata": {},
     "output_type": "execute_result"
    }
   ],
   "source": [
    "tang_array"
   ]
  },
  {
   "cell_type": "markdown",
   "id": "28987a8f",
   "metadata": {},
   "source": [
    "#### 7、索引与切片,跟python都是一样的"
   ]
  },
  {
   "cell_type": "code",
   "execution_count": 15,
   "id": "fc97560d",
   "metadata": {},
   "outputs": [],
   "source": [
    "tang_list= [1,2,3,4,5.0]\n",
    "tang_array = np.array(tang_list)"
   ]
  },
  {
   "cell_type": "code",
   "execution_count": 16,
   "id": "beefb46a",
   "metadata": {},
   "outputs": [
    {
     "data": {
      "text/plain": [
       "3.0"
      ]
     },
     "execution_count": 16,
     "metadata": {},
     "output_type": "execute_result"
    }
   ],
   "source": [
    "tang_array[2]"
   ]
  },
  {
   "cell_type": "code",
   "execution_count": 17,
   "id": "286abbc1",
   "metadata": {},
   "outputs": [
    {
     "data": {
      "text/plain": [
       "array([1., 2., 3.])"
      ]
     },
     "execution_count": 17,
     "metadata": {},
     "output_type": "execute_result"
    }
   ],
   "source": [
    "tang_array[:3]"
   ]
  },
  {
   "cell_type": "markdown",
   "id": "ba719123",
   "metadata": {},
   "source": [
    "#### 8、矩阵格式"
   ]
  },
  {
   "cell_type": "code",
   "execution_count": 18,
   "id": "ccc96768",
   "metadata": {},
   "outputs": [],
   "source": [
    "tang_array = np.array([[1,2,3],\n",
    "                      [4,5,6],\n",
    "                      [7,8,9]])"
   ]
  },
  {
   "cell_type": "code",
   "execution_count": 19,
   "id": "be4dbb75",
   "metadata": {},
   "outputs": [
    {
     "data": {
      "text/plain": [
       "array([[1, 2, 3],\n",
       "       [4, 5, 6],\n",
       "       [7, 8, 9]])"
      ]
     },
     "execution_count": 19,
     "metadata": {},
     "output_type": "execute_result"
    }
   ],
   "source": [
    "tang_array"
   ]
  },
  {
   "cell_type": "code",
   "execution_count": 20,
   "id": "c548c320",
   "metadata": {},
   "outputs": [
    {
     "data": {
      "text/plain": [
       "(3, 3)"
      ]
     },
     "execution_count": 20,
     "metadata": {},
     "output_type": "execute_result"
    }
   ],
   "source": [
    "tang_array.shape"
   ]
  },
  {
   "cell_type": "code",
   "execution_count": 21,
   "id": "43ab682c",
   "metadata": {},
   "outputs": [
    {
     "data": {
      "text/plain": [
       "9"
      ]
     },
     "execution_count": 21,
     "metadata": {},
     "output_type": "execute_result"
    }
   ],
   "source": [
    "tang_array.size"
   ]
  },
  {
   "cell_type": "code",
   "execution_count": 22,
   "id": "238d8c0d",
   "metadata": {},
   "outputs": [
    {
     "data": {
      "text/plain": [
       "2"
      ]
     },
     "execution_count": 22,
     "metadata": {},
     "output_type": "execute_result"
    }
   ],
   "source": [
    "tang_array.ndim"
   ]
  },
  {
   "cell_type": "markdown",
   "id": "685a1953-6dc2-4bf0-99ae-9114f70353b2",
   "metadata": {},
   "source": [
    "#### 9、二维数组的索引"
   ]
  },
  {
   "cell_type": "code",
   "execution_count": 23,
   "id": "9c985f3d",
   "metadata": {},
   "outputs": [
    {
     "data": {
      "text/plain": [
       "5"
      ]
     },
     "execution_count": 23,
     "metadata": {},
     "output_type": "execute_result"
    }
   ],
   "source": [
    "tang_array[1,1]"
   ]
  },
  {
   "cell_type": "code",
   "execution_count": 24,
   "id": "8f69b1dd",
   "metadata": {},
   "outputs": [
    {
     "data": {
      "text/plain": [
       "9"
      ]
     },
     "execution_count": 24,
     "metadata": {},
     "output_type": "execute_result"
    }
   ],
   "source": [
    "tang_array[2,2]"
   ]
  },
  {
   "cell_type": "markdown",
   "id": "7ab00a42-3b1d-46d5-a855-67d3b01bd662",
   "metadata": {},
   "source": [
    "#### 10、修改数组中的值"
   ]
  },
  {
   "cell_type": "code",
   "execution_count": 25,
   "id": "c70d9e5c",
   "metadata": {},
   "outputs": [],
   "source": [
    "tang_array[1,1] = 10"
   ]
  },
  {
   "cell_type": "code",
   "execution_count": 26,
   "id": "d48b25b3",
   "metadata": {},
   "outputs": [
    {
     "data": {
      "text/plain": [
       "array([[ 1,  2,  3],\n",
       "       [ 4, 10,  6],\n",
       "       [ 7,  8,  9]])"
      ]
     },
     "execution_count": 26,
     "metadata": {},
     "output_type": "execute_result"
    }
   ],
   "source": [
    "tang_array"
   ]
  },
  {
   "cell_type": "code",
   "execution_count": 27,
   "id": "5e552fb8",
   "metadata": {},
   "outputs": [
    {
     "data": {
      "text/plain": [
       "array([ 4, 10,  6])"
      ]
     },
     "execution_count": 27,
     "metadata": {},
     "output_type": "execute_result"
    }
   ],
   "source": [
    "tang_array[1] #矩阵第二行"
   ]
  },
  {
   "cell_type": "code",
   "execution_count": 28,
   "id": "50e64019",
   "metadata": {},
   "outputs": [
    {
     "data": {
      "text/plain": [
       "array([ 2, 10,  8])"
      ]
     },
     "execution_count": 28,
     "metadata": {},
     "output_type": "execute_result"
    }
   ],
   "source": [
    "tang_array[:,1] #矩阵第二列"
   ]
  },
  {
   "cell_type": "code",
   "execution_count": 29,
   "id": "ddff38e1",
   "metadata": {},
   "outputs": [],
   "source": [
    "tang_array2 = tang_array"
   ]
  },
  {
   "cell_type": "code",
   "execution_count": 30,
   "id": "cfec9c07",
   "metadata": {},
   "outputs": [],
   "source": [
    "tang_array2[1,1] = 100"
   ]
  },
  {
   "cell_type": "code",
   "execution_count": 31,
   "id": "b70d4fc4",
   "metadata": {},
   "outputs": [
    {
     "data": {
      "text/plain": [
       "array([[  1,   2,   3],\n",
       "       [  4, 100,   6],\n",
       "       [  7,   8,   9]])"
      ]
     },
     "execution_count": 31,
     "metadata": {},
     "output_type": "execute_result"
    }
   ],
   "source": [
    "tang_array"
   ]
  },
  {
   "cell_type": "markdown",
   "id": "fa425e12-cd86-4a76-bcd2-0d8dcd48841f",
   "metadata": {},
   "source": [
    "#### 11、复制一个副本，在副本上的操作不会修改原数组的值"
   ]
  },
  {
   "cell_type": "code",
   "execution_count": 32,
   "id": "0d603702",
   "metadata": {},
   "outputs": [],
   "source": [
    "tang_array2 = tang_array.copy()"
   ]
  },
  {
   "cell_type": "code",
   "execution_count": 33,
   "id": "d3ab30fe",
   "metadata": {},
   "outputs": [],
   "source": [
    "tang_array2[1,1] = 200"
   ]
  },
  {
   "cell_type": "code",
   "execution_count": 34,
   "id": "a3b1ddb4",
   "metadata": {},
   "outputs": [
    {
     "data": {
      "text/plain": [
       "array([[  1,   2,   3],\n",
       "       [  4, 100,   6],\n",
       "       [  7,   8,   9]])"
      ]
     },
     "execution_count": 34,
     "metadata": {},
     "output_type": "execute_result"
    }
   ],
   "source": [
    "tang_array"
   ]
  },
  {
   "cell_type": "markdown",
   "id": "3ee6e53a-1a0e-4bbc-8dcf-477afe7178a0",
   "metadata": {},
   "source": [
    "#### 12、bool索引数组"
   ]
  },
  {
   "cell_type": "code",
   "execution_count": 35,
   "id": "200e8e57",
   "metadata": {},
   "outputs": [],
   "source": [
    "tang_array = np.arange(0,100,10)"
   ]
  },
  {
   "cell_type": "code",
   "execution_count": 36,
   "id": "cac31a36",
   "metadata": {},
   "outputs": [
    {
     "data": {
      "text/plain": [
       "array([ 0, 10, 20, 30, 40, 50, 60, 70, 80, 90])"
      ]
     },
     "execution_count": 36,
     "metadata": {},
     "output_type": "execute_result"
    }
   ],
   "source": [
    "tang_array"
   ]
  },
  {
   "cell_type": "code",
   "execution_count": 37,
   "id": "12a3ee2b",
   "metadata": {},
   "outputs": [],
   "source": [
    "mask = np.array([1,0,1,0,0,1,1,1,1,0],dtype = bool)"
   ]
  },
  {
   "cell_type": "code",
   "execution_count": 38,
   "id": "05bb0959",
   "metadata": {},
   "outputs": [
    {
     "data": {
      "text/plain": [
       "array([ True, False,  True, False, False,  True,  True,  True,  True,\n",
       "       False])"
      ]
     },
     "execution_count": 38,
     "metadata": {},
     "output_type": "execute_result"
    }
   ],
   "source": [
    "mask"
   ]
  },
  {
   "cell_type": "code",
   "execution_count": 39,
   "id": "5302ee53",
   "metadata": {},
   "outputs": [
    {
     "data": {
      "text/plain": [
       "array([ 0, 20, 50, 60, 70, 80])"
      ]
     },
     "execution_count": 39,
     "metadata": {},
     "output_type": "execute_result"
    }
   ],
   "source": [
    "tang_array[mask]"
   ]
  },
  {
   "cell_type": "code",
   "execution_count": 40,
   "id": "91c0fb20",
   "metadata": {},
   "outputs": [],
   "source": [
    "random_array = np.random.rand(10)"
   ]
  },
  {
   "cell_type": "code",
   "execution_count": 41,
   "id": "efe110ea",
   "metadata": {},
   "outputs": [
    {
     "data": {
      "text/plain": [
       "array([0.14697663, 0.10476222, 0.09338239, 0.94645789, 0.60705954,\n",
       "       0.89813006, 0.17886561, 0.24953086, 0.33188893, 0.76875344])"
      ]
     },
     "execution_count": 41,
     "metadata": {},
     "output_type": "execute_result"
    }
   ],
   "source": [
    "random_array"
   ]
  },
  {
   "cell_type": "code",
   "execution_count": 42,
   "id": "9145509d",
   "metadata": {},
   "outputs": [],
   "source": [
    "mask = random_array > 0.5"
   ]
  },
  {
   "cell_type": "code",
   "execution_count": 43,
   "id": "ccf8811d",
   "metadata": {},
   "outputs": [
    {
     "data": {
      "text/plain": [
       "array([False, False, False,  True,  True,  True, False, False, False,\n",
       "        True])"
      ]
     },
     "execution_count": 43,
     "metadata": {},
     "output_type": "execute_result"
    }
   ],
   "source": [
    "mask"
   ]
  },
  {
   "cell_type": "code",
   "execution_count": 44,
   "id": "391b8073",
   "metadata": {
    "scrolled": true
   },
   "outputs": [
    {
     "data": {
      "text/plain": [
       "array([30, 40, 50, 90])"
      ]
     },
     "execution_count": 44,
     "metadata": {},
     "output_type": "execute_result"
    }
   ],
   "source": [
    "tang_array[mask]"
   ]
  },
  {
   "cell_type": "markdown",
   "id": "c470d5c4",
   "metadata": {},
   "source": [
    "#### 13、数组类型"
   ]
  },
  {
   "cell_type": "code",
   "execution_count": 45,
   "id": "0a18a454",
   "metadata": {},
   "outputs": [],
   "source": [
    "tang_array = np.array([1,2,3,4,5],dtype = np.float32)"
   ]
  },
  {
   "cell_type": "code",
   "execution_count": 46,
   "id": "629368eb",
   "metadata": {},
   "outputs": [
    {
     "data": {
      "text/plain": [
       "array([1., 2., 3., 4., 5.], dtype=float32)"
      ]
     },
     "execution_count": 46,
     "metadata": {},
     "output_type": "execute_result"
    }
   ],
   "source": [
    "tang_array"
   ]
  },
  {
   "cell_type": "code",
   "execution_count": 47,
   "id": "98be092f",
   "metadata": {},
   "outputs": [
    {
     "data": {
      "text/plain": [
       "dtype('float32')"
      ]
     },
     "execution_count": 47,
     "metadata": {},
     "output_type": "execute_result"
    }
   ],
   "source": [
    "tang_array.dtype"
   ]
  },
  {
   "cell_type": "code",
   "execution_count": 48,
   "id": "2f6054d8",
   "metadata": {},
   "outputs": [
    {
     "data": {
      "text/plain": [
       "4"
      ]
     },
     "execution_count": 48,
     "metadata": {},
     "output_type": "execute_result"
    }
   ],
   "source": [
    "tang_array.itemsize"
   ]
  },
  {
   "cell_type": "code",
   "execution_count": 49,
   "id": "f53e6a1b",
   "metadata": {},
   "outputs": [
    {
     "data": {
      "text/plain": [
       "20"
      ]
     },
     "execution_count": 49,
     "metadata": {},
     "output_type": "execute_result"
    }
   ],
   "source": [
    "tang_array.nbytes"
   ]
  },
  {
   "cell_type": "code",
   "execution_count": 50,
   "id": "388a8a70",
   "metadata": {},
   "outputs": [
    {
     "data": {
      "text/plain": [
       "5"
      ]
     },
     "execution_count": 50,
     "metadata": {},
     "output_type": "execute_result"
    }
   ],
   "source": [
    "tang_array.size"
   ]
  },
  {
   "cell_type": "code",
   "execution_count": 51,
   "id": "a1cd5370",
   "metadata": {},
   "outputs": [],
   "source": [
    "tang_array = np.array([1,10,3.5,'string'])"
   ]
  },
  {
   "cell_type": "code",
   "execution_count": 52,
   "id": "5c371220",
   "metadata": {},
   "outputs": [
    {
     "name": "stderr",
     "output_type": "stream",
     "text": [
      "C:\\Users\\Administrator\\AppData\\Local\\Temp\\ipykernel_4376\\2419498312.py:1: DeprecationWarning: `np.object` is a deprecated alias for the builtin `object`. To silence this warning, use `object` by itself. Doing this will not modify any behavior and is safe. \n",
      "Deprecated in NumPy 1.20; for more details and guidance: https://numpy.org/devdocs/release/1.20.0-notes.html#deprecations\n",
      "  np.asarray(tang_array, dtype = np.object)\n"
     ]
    },
    {
     "data": {
      "text/plain": [
       "array(['1', '10', '3.5', 'string'], dtype=object)"
      ]
     },
     "execution_count": 52,
     "metadata": {},
     "output_type": "execute_result"
    }
   ],
   "source": [
    "np.asarray(tang_array, dtype = np.object)"
   ]
  },
  {
   "cell_type": "code",
   "execution_count": 53,
   "id": "195584de",
   "metadata": {
    "scrolled": true
   },
   "outputs": [
    {
     "data": {
      "text/plain": [
       "array(['1', '10', '3.5', 'string'], dtype='<U32')"
      ]
     },
     "execution_count": 53,
     "metadata": {},
     "output_type": "execute_result"
    }
   ],
   "source": [
    "tang_array"
   ]
  }
 ],
 "metadata": {
  "kernelspec": {
   "display_name": "Python 3 (ipykernel)",
   "language": "python",
   "name": "python3"
  },
  "language_info": {
   "codemirror_mode": {
    "name": "ipython",
    "version": 3
   },
   "file_extension": ".py",
   "mimetype": "text/x-python",
   "name": "python",
   "nbconvert_exporter": "python",
   "pygments_lexer": "ipython3",
   "version": "3.9.12"
  }
 },
 "nbformat": 4,
 "nbformat_minor": 5
}
